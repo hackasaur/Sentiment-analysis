{
  "cells": [
    {
      "cell_type": "code",
      "execution_count": 1,
      "metadata": {
        "id": "uIO926fJ4f0k"
      },
      "outputs": [
        {
          "name": "stderr",
          "output_type": "stream",
          "text": [
            "2023-06-14 15:59:18.272498: I tensorflow/tsl/cuda/cudart_stub.cc:28] Could not find cuda drivers on your machine, GPU will not be used.\n",
            "2023-06-14 15:59:18.520965: I tensorflow/tsl/cuda/cudart_stub.cc:28] Could not find cuda drivers on your machine, GPU will not be used.\n",
            "2023-06-14 15:59:18.522463: I tensorflow/core/platform/cpu_feature_guard.cc:182] This TensorFlow binary is optimized to use available CPU instructions in performance-critical operations.\n",
            "To enable the following instructions: AVX2 FMA, in other operations, rebuild TensorFlow with the appropriate compiler flags.\n",
            "2023-06-14 15:59:19.886936: W tensorflow/compiler/tf2tensorrt/utils/py_utils.cc:38] TF-TRT Warning: Could not find TensorRT\n"
          ]
        }
      ],
      "source": [
        "import numpy as np\n",
        "import tensorflow as tf\n",
        "from tqdm import tqdm\n",
        "from sklearn import svm\n",
        "from keras.datasets import imdb"
      ]
    },
    {
      "attachments": {},
      "cell_type": "markdown",
      "metadata": {
        "id": "bJmxRgksbUU_"
      },
      "source": [
        "## Load the dataset"
      ]
    },
    {
      "cell_type": "code",
      "execution_count": 2,
      "metadata": {
        "colab": {
          "base_uri": "https://localhost:8080/",
          "height": 200
        },
        "id": "hGMHVIcs4ROU",
        "outputId": "90851a65-0f15-444e-9ad0-f7ff6b68b9e5"
      },
      "outputs": [
        {
          "name": "stdout",
          "output_type": "stream",
          "text": [
            "(25000,) (25000,)\n"
          ]
        },
        {
          "data": {
            "text/plain": [
              "\"[START] this has to be one of the worst films of the 1990s when my friends i were watching this film being the target audience it was aimed at we just sat watched the first half an hour with our jaws touching the floor at how bad it really was the rest of the time everyone else in the theatre just started talking to each other leaving or generally crying into their popcorn that they actually paid money they had earnt working to watch this feeble excuse for a film it must have looked like a great idea on paper but on film it looks like no one in the film has a clue what is going on crap acting crap costumes i can't get across how embarrasing this is to watch save yourself an hour a bit of your life\""
            ]
          },
          "execution_count": 2,
          "metadata": {},
          "output_type": "execute_result"
        }
      ],
      "source": [
        "# Use the default parameters to keras.datasets.imdb.load_data\n",
        "start_char = 1\n",
        "oov_char = 2\n",
        "index_from = 3\n",
        "\n",
        "(x_train, y_train), (x_test, y_test) = imdb.load_data(\n",
        "    path=\"imdb.npz\",\n",
        "    num_words=None,\n",
        "    skip_top=0,\n",
        "    maxlen=None,\n",
        "    seed=113,\n",
        "    start_char=start_char,\n",
        "    oov_char=oov_char,\n",
        "    index_from=index_from,\n",
        ")\n",
        "\n",
        "print(x_train.shape, x_test.shape)\n",
        "\n",
        "# Retrieve the word index file mapping words to indices\n",
        "word_index = imdb.get_word_index()\n",
        "# Reverse the word index to obtain a dict mapping indices to words\n",
        "# And add `index_from` to indices to sync with `x_train`\n",
        "inverted_word_index = dict(\n",
        "    (i + index_from, word) for (word, i) in word_index.items()\n",
        ")\n",
        "# Update `inverted_word_index` to include `start_char` and `oov_char`\n",
        "inverted_word_index[start_char] = \"[START]\"\n",
        "inverted_word_index[oov_char] = \"[OOV]\"\n",
        "# Decode the first sequence in the dataset\n",
        "decoded_sequence = \" \".join(inverted_word_index[i] for i in x_train[2])\n",
        "decoded_sequence"
      ]
    },
    {
      "cell_type": "code",
      "execution_count": 7,
      "metadata": {
        "colab": {
          "base_uri": "https://localhost:8080/"
        },
        "id": "vQvTKH8ARGEY",
        "outputId": "f83b73e8-9eb6-40af-b1f0-128355aeae3d"
      },
      "outputs": [
        {
          "name": "stdout",
          "output_type": "stream",
          "text": [
            "[ 4  5  6  7  8  9 10 11 12 13]\n",
            "the\n",
            "and\n",
            "a\n",
            "of\n",
            "to\n",
            "is\n",
            "br\n",
            "in\n",
            "it\n",
            "i\n"
          ]
        }
      ],
      "source": [
        "flat_array = np.concatenate(x_train)\n",
        "\n",
        "# Count the frequencies of each integer\n",
        "unique_values, value_counts = np.unique(flat_array, return_counts=True)\n",
        "\n",
        "# Sort the integers based on their frequencies in descending order\n",
        "sorted_indices = np.argsort(value_counts)[::-1]\n",
        "\n",
        "# Retrieve the integers with the highest frequencies\n",
        "most_frequent_integers = unique_values[sorted_indices]\n",
        "\n",
        "print(most_frequent_integers[0:10])\n",
        "# Print the words corresponding to the most frequent integers\n",
        "for i in most_frequent_integers[0:10]:\n",
        "  print(inverted_word_index[i])"
      ]
    },
    {
      "cell_type": "code",
      "execution_count": 3,
      "metadata": {
        "colab": {
          "base_uri": "https://localhost:8080/"
        },
        "id": "nifOm9h3c-Ph",
        "outputId": "d1f94fa1-ac3a-411f-d48e-ccdb09e91407"
      },
      "outputs": [
        {
          "data": {
            "text/plain": [
              "30000"
            ]
          },
          "execution_count": 3,
          "metadata": {},
          "output_type": "execute_result"
        }
      ],
      "source": [
        "shorter_word_by_indices = {}\n",
        "vocab_size = 30000\n",
        "# inverted_word_index[4]\n",
        "for i in range(4,vocab_size + 4):\n",
        "  shorter_word_by_indices[i-4] = inverted_word_index[i]\n",
        "len(shorter_word_by_indices)"
      ]
    },
    {
      "cell_type": "code",
      "execution_count": 4,
      "metadata": {
        "id": "DUrFcy74a3NH"
      },
      "outputs": [],
      "source": [
        "word_index[\"[START]\"] = 1\n",
        "word_index[\"[OOV]\"] = 2"
      ]
    },
    {
      "cell_type": "code",
      "execution_count": 5,
      "metadata": {
        "id": "Ah44EgFjQkIL"
      },
      "outputs": [],
      "source": [
        "def extract_bow_feature_vectors(reviews, word_by_indices, binarize=False):\n",
        "    \"\"\"\n",
        "    Args:\n",
        "        `reviews` - a list of natural language strings\n",
        "        `indices_by_word` - a dictionary of uniquely-indexed words.\n",
        "    Returns:\n",
        "        a matrix representing each review via bag-of-words features.  This\n",
        "        matrix thus has shape (n, m), where n counts reviews and m counts words\n",
        "        in the dictionary.\n",
        "    \"\"\"\n",
        "\n",
        "    feature_matrix = np.zeros([len(reviews), len(word_by_indices)], dtype=np.float64)\n",
        "    for i, word_indices in enumerate(reviews):\n",
        "        for word_index in word_indices:\n",
        "            # word = word_by_indices[word_index]\n",
        "            if word_index not in word_by_indices : continue\n",
        "            elif binarize:\n",
        "                feature_matrix[i, word_index] = 1\n",
        "            elif not binarize:\n",
        "                feature_matrix[i, word_index] += 1\n",
        "    print(feature_matrix[1][1:10])\n",
        "    return feature_matrix   \n"
      ]
    },
    {
      "cell_type": "code",
      "execution_count": 6,
      "metadata": {
        "colab": {
          "base_uri": "https://localhost:8080/"
        },
        "id": "odkFTHdRWcXO",
        "outputId": "770599a4-a916-4355-a884-1004279c2c1c"
      },
      "outputs": [
        {
          "name": "stdout",
          "output_type": "stream",
          "text": [
            "[ 1.  0.  0. 15. 10.  3.  2.  3. 10.]\n",
            "[ 1.  0.  0. 18.  9.  6.  7.  6.  7.]\n"
          ]
        }
      ],
      "source": [
        "train_size = 18000\n",
        "test_size = 2000\n",
        "feature_matrix_train = extract_bow_feature_vectors(x_train[:train_size], shorter_word_by_indices)\n",
        "feature_matrix_test = extract_bow_feature_vectors(x_test[:test_size], shorter_word_by_indices)"
      ]
    },
    {
      "attachments": {},
      "cell_type": "markdown",
      "metadata": {
        "id": "SVxVvba7bLBQ"
      },
      "source": [
        "## SVM"
      ]
    },
    {
      "cell_type": "code",
      "execution_count": null,
      "metadata": {
        "id": "5Vl1uTjc4GT_"
      },
      "outputs": [],
      "source": [
        "classifier = svm.SVC(kernel='rbf')\n",
        "classifier.fit(feature_matrix_train, y_train[:10000])"
      ]
    },
    {
      "cell_type": "code",
      "execution_count": null,
      "metadata": {
        "id": "WSqcLzMohn_T"
      },
      "outputs": [],
      "source": [
        "y_pred = classifier.predict(feature_matrix_test[:10])\n",
        "np.mean(np.equal(y_pred, y_test[:10]))"
      ]
    },
    {
      "attachments": {},
      "cell_type": "markdown",
      "metadata": {
        "id": "_P6cZYtCbgo2"
      },
      "source": [
        "## NN"
      ]
    },
    {
      "cell_type": "code",
      "execution_count": 7,
      "metadata": {
        "id": "fMwYj9rNcNHv"
      },
      "outputs": [],
      "source": [
        "import torch\n",
        "import torch.autograd as autograd\n",
        "import torch.nn.functional as F\n",
        "import torch.nn as nn"
      ]
    },
    {
      "cell_type": "code",
      "execution_count": 8,
      "metadata": {
        "id": "jtePGw6ab5R1"
      },
      "outputs": [],
      "source": [
        "def batchify_data(x_data, y_data, batch_size):\n",
        "    \"\"\"Takes a set of data points and labels and groups them into batches.\"\"\"\n",
        "    # Only take batch_size chunks (i.e. drop the remainder)\n",
        "    N = int(len(x_data) / batch_size) * batch_size\n",
        "    batches = []\n",
        "    for i in range(0, N, batch_size):\n",
        "        batches.append({\n",
        "            'x': torch.tensor(x_data[i:i+batch_size], dtype = torch.float),\n",
        "            'y': torch.tensor(y_data[i:i+batch_size], dtype = torch.long)})\n",
        "    return batches\n",
        "\n",
        "def compute_accuracy(predictions, y):\n",
        "    \"\"\"Computes the accuracy of predictions against the gold labels, y.\"\"\"\n",
        "    return np.mean(np.equal(predictions.numpy(), y.numpy()))"
      ]
    },
    {
      "cell_type": "code",
      "execution_count": 9,
      "metadata": {
        "id": "qpTqp9TjcGXi"
      },
      "outputs": [],
      "source": [
        "def run_epoch(data, model, optimizer):\n",
        "    \"\"\"Train model for one pass of train data, and return loss, acccuracy\"\"\"\n",
        "    # Gather losses\n",
        "    losses = []\n",
        "    batch_accuracies = []\n",
        "\n",
        "    # If model is in train mode, use optimizer.\n",
        "    is_training = model.training\n",
        "\n",
        "    # Iterate through batches\n",
        "    for batch in data:#tqdm(data):\n",
        "        # Grab x and y\n",
        "        x, y = batch['x'], batch['y']\n",
        "\n",
        "        # Get output predictions\n",
        "        out = model(x)\n",
        "\n",
        "        # Predict and store accuracy\n",
        "        predictions = torch.argmax(out, dim=1)\n",
        "        batch_accuracies.append(compute_accuracy(predictions, y))\n",
        "\n",
        "        # Compute loss\n",
        "        loss = F.cross_entropy(out, y) + 0.1*sum(torch.norm(p) for p in model.parameters())\n",
        "        losses.append(loss.data.item())\n",
        "\n",
        "        # If training, do an update.\n",
        "        if is_training:\n",
        "            optimizer.zero_grad()\n",
        "            loss.backward()\n",
        "            optimizer.step()\n",
        "\n",
        "    # Calculate epoch level scores\n",
        "    avg_loss = np.mean(losses)\n",
        "    avg_accuracy = np.mean(batch_accuracies)\n",
        "    return avg_loss, avg_accuracy"
      ]
    },
    {
      "cell_type": "code",
      "execution_count": 10,
      "metadata": {
        "id": "gjTqdycxeFCI"
      },
      "outputs": [],
      "source": [
        "def train_model(train_data, dev_data, model, lr=0.1, momentum=0.1, nesterov=False, n_epochs=30):\n",
        "    \"\"\"Train a model for N epochs given data and hyper-params.\"\"\"\n",
        "    # We optimize with SGD\n",
        "    optimizer = torch.optim.SGD(model.parameters(), lr=lr, momentum=momentum, nesterov=nesterov)\n",
        "    epochs_i = []\n",
        "    losses_i = []\n",
        "    val_losses_i = []\n",
        "    val_accs_i = []\n",
        "\n",
        "    for epoch in range(1, n_epochs+1):\n",
        "        print(\"-------------\\nEpoch {}:\\n\".format(epoch))\n",
        "\n",
        "        # Run **training***\n",
        "        loss, acc = run_epoch(train_data, model.train(), optimizer)\n",
        "        print('Train loss: {:.6f} | Train accuracy: {:.6f}'.format(loss, acc))\n",
        "        losses_i.append(loss)\n",
        "        epochs_i.append(epoch)\n",
        "        # Run **validation**\n",
        "        val_loss, val_acc = run_epoch(dev_data, model.eval(), optimizer)\n",
        "        val_losses_i.append(val_loss)\n",
        "        val_accs_i.append(val_acc)\n",
        "        print('Val loss:   {:.6f} | Val accuracy:   {:.6f}'.format(val_loss, val_acc))\n",
        "        # Save model\n",
        "        torch.save(model, \"/notebooks/Sentiment_analysis_IMDB.pt\")\n",
        "    return losses_i, val_losses_i, val_accs_i, epochs_i"
      ]
    },
    {
      "cell_type": "code",
      "execution_count": 11,
      "metadata": {
        "id": "H5kgwlUtcV6n"
      },
      "outputs": [],
      "source": [
        "# create batches for SGD\n",
        "batch_size = 32\n",
        "train_batches = batchify_data(feature_matrix_train, y_train[:train_size], batch_size)\n",
        "test_batches = batchify_data(feature_matrix_test, y_test[:test_size], batch_size)"
      ]
    },
    {
      "cell_type": "code",
      "execution_count": 12,
      "metadata": {
        "colab": {
          "base_uri": "https://localhost:8080/"
        },
        "id": "TsuHK3eKdqSr",
        "outputId": "c1f34ece-f1f5-4cff-ad65-a2fc2d8c41ee"
      },
      "outputs": [
        {
          "data": {
            "text/plain": [
              "((18000, 30000), torch.Size([32, 30000]), torch.Size([32]), 562)"
            ]
          },
          "execution_count": 12,
          "metadata": {},
          "output_type": "execute_result"
        }
      ],
      "source": [
        "feature_matrix_train.shape, train_batches[0][\"x\"].shape, train_batches[0][\"y\"].shape, len(train_batches), "
      ]
    },
    {
      "cell_type": "code",
      "execution_count": 13,
      "metadata": {
        "colab": {
          "base_uri": "https://localhost:8080/",
          "height": 244
        },
        "id": "LlX1x9rbdFBk",
        "outputId": "7f4554fb-6ed5-4360-a464-84766f600f2a"
      },
      "outputs": [
        {
          "data": {
            "text/plain": [
              "Sequential(\n",
              "  (0): Linear(in_features=30000, out_features=128, bias=True)\n",
              "  (1): Tanh()\n",
              "  (2): Linear(in_features=128, out_features=128, bias=True)\n",
              "  (3): Tanh()\n",
              "  (4): Linear(in_features=128, out_features=128, bias=True)\n",
              "  (5): Tanh()\n",
              "  (6): Linear(in_features=128, out_features=2, bias=True)\n",
              ")"
            ]
          },
          "execution_count": 13,
          "metadata": {},
          "output_type": "execute_result"
        }
      ],
      "source": [
        "#################################\n",
        "## Model specification TODO\n",
        "model = nn.Sequential(\n",
        "          nn.Linear(feature_matrix_test.shape[1], 128),\n",
        "          nn.Tanh(),\n",
        "          nn.Linear(128, 128),\n",
        "          nn.Tanh(),\n",
        "          nn.Linear(128, 128),\n",
        "          nn.Tanh(),\n",
        "          nn.Linear(128, 2)\n",
        "        )\n",
        "##################################\n",
        "model"
      ]
    },
    {
      "cell_type": "code",
      "execution_count": 14,
      "metadata": {
        "colab": {
          "base_uri": "https://localhost:8080/"
        },
        "id": "6xtMfLbBd9cX",
        "outputId": "c5fc334b-b116-4bc1-b61b-0f9e8e0f900d"
      },
      "outputs": [
        {
          "name": "stdout",
          "output_type": "stream",
          "text": [
            "-------------\n",
            "Epoch 1:\n",
            "\n",
            "Train loss: 2.646825 | Train accuracy: 0.657807\n",
            "Val loss:   2.422803 | Val accuracy:   0.757056\n",
            "-------------\n",
            "Epoch 2:\n",
            "\n",
            "Train loss: 2.284120 | Train accuracy: 0.787867\n",
            "Val loss:   2.144870 | Val accuracy:   0.822581\n",
            "-------------\n",
            "Epoch 3:\n",
            "\n",
            "Train loss: 2.044735 | Train accuracy: 0.841137\n",
            "Val loss:   1.947341 | Val accuracy:   0.854839\n",
            "-------------\n",
            "Epoch 4:\n",
            "\n",
            "Train loss: 1.857187 | Train accuracy: 0.865825\n",
            "Val loss:   1.783581 | Val accuracy:   0.862399\n",
            "-------------\n",
            "Epoch 5:\n",
            "\n",
            "Train loss: 1.691185 | Train accuracy: 0.880894\n",
            "Val loss:   1.635306 | Val accuracy:   0.877016\n",
            "-------------\n",
            "Epoch 6:\n",
            "\n",
            "Train loss: 1.540038 | Train accuracy: 0.891014\n",
            "Val loss:   1.499384 | Val accuracy:   0.875504\n",
            "-------------\n",
            "Epoch 7:\n",
            "\n",
            "Train loss: 1.401845 | Train accuracy: 0.897520\n",
            "Val loss:   1.374946 | Val accuracy:   0.875000\n",
            "-------------\n",
            "Epoch 8:\n",
            "\n",
            "Train loss: 1.276816 | Train accuracy: 0.902358\n",
            "Val loss:   1.262328 | Val accuracy:   0.877520\n",
            "-------------\n",
            "Epoch 9:\n",
            "\n",
            "Train loss: 1.166074 | Train accuracy: 0.905305\n",
            "Val loss:   1.162247 | Val accuracy:   0.879536\n",
            "-------------\n",
            "Epoch 10:\n",
            "\n",
            "Train loss: 1.071219 | Train accuracy: 0.906417\n",
            "Val loss:   1.076407 | Val accuracy:   0.880040\n",
            "-------------\n",
            "Epoch 11:\n",
            "\n",
            "Train loss: 0.993936 | Train accuracy: 0.905750\n",
            "Val loss:   1.006514 | Val accuracy:   0.880040\n",
            "-------------\n",
            "Epoch 12:\n",
            "\n",
            "Train loss: 0.935144 | Train accuracy: 0.904081\n",
            "Val loss:   0.953554 | Val accuracy:   0.882560\n",
            "-------------\n",
            "Epoch 13:\n",
            "\n",
            "Train loss: 0.894085 | Train accuracy: 0.900745\n",
            "Val loss:   0.916512 | Val accuracy:   0.881552\n",
            "-------------\n",
            "Epoch 14:\n",
            "\n",
            "Train loss: 0.867977 | Train accuracy: 0.897353\n",
            "Val loss:   0.892460 | Val accuracy:   0.882560\n",
            "-------------\n",
            "Epoch 15:\n",
            "\n",
            "Train loss: 0.852709 | Train accuracy: 0.894795\n",
            "Val loss:   0.877689 | Val accuracy:   0.879536\n",
            "-------------\n",
            "Epoch 16:\n",
            "\n",
            "Train loss: 0.844263 | Train accuracy: 0.891292\n",
            "Val loss:   0.868565 | Val accuracy:   0.878528\n",
            "-------------\n",
            "Epoch 17:\n",
            "\n",
            "Train loss: 0.839694 | Train accuracy: 0.888568\n",
            "Val loss:   0.862801 | Val accuracy:   0.875504\n",
            "-------------\n",
            "Epoch 18:\n",
            "\n",
            "Train loss: 0.837199 | Train accuracy: 0.886455\n",
            "Val loss:   0.858959 | Val accuracy:   0.872984\n",
            "-------------\n",
            "Epoch 19:\n",
            "\n",
            "Train loss: 0.835797 | Train accuracy: 0.884342\n",
            "Val loss:   0.856326 | Val accuracy:   0.873488\n",
            "-------------\n",
            "Epoch 20:\n",
            "\n",
            "Train loss: 0.834984 | Train accuracy: 0.882562\n",
            "Val loss:   0.854490 | Val accuracy:   0.871976\n",
            "Loss on test set:0.8544903993606567 Accuracy on test set: 0.8719758064516129\n"
          ]
        }
      ],
      "source": [
        "# train the model\n",
        "losses_i, val_losses_i, val_accs, epochs_i = train_model(train_batches, test_batches, model, lr=0.001, momentum = 0.9, nesterov=True, n_epochs = 20)\n",
        "\n",
        "# # Evaluate the model on test data\n",
        "loss, accuracy = run_epoch(test_batches, model.eval(), None)\n",
        "\n",
        "print (\"Loss on test set:\"  + str(loss) + \" Accuracy on test set: \" + str(accuracy))"
      ]
    },
    {
      "cell_type": "code",
      "execution_count": 15,
      "metadata": {
        "colab": {
          "base_uri": "https://localhost:8080/",
          "height": 472
        },
        "id": "Hrq6Fw0uaAxF",
        "outputId": "1080346d-bed1-414e-ec65-909cc4362473"
      },
      "outputs": [
        {
          "data": {
            "image/png": "[encoded data removed]",
            "text/plain": [
              "<Figure size 640x480 with 1 Axes>"
            ]
          },
          "metadata": {},
          "output_type": "display_data"
        }
      ],
      "source": [
        "import matplotlib.pyplot as plt\n",
        "%matplotlib inline\n",
        "plt.figure()\n",
        "plt.title(\"Loss\")\n",
        "plt.xlabel(\"Epochs\")\n",
        "plt.ylabel(\"Loss\")\n",
        "plt.plot(epochs_i, losses_i, label = \"Train loss\")\n",
        "plt.plot(epochs_i, val_losses_i, label = \"Val loss\")\n",
        "plt.legend()\n",
        "plt.show()"
      ]
    },
    {
      "cell_type": "code",
      "execution_count": 16,
      "metadata": {
        "colab": {
          "base_uri": "https://localhost:8080/",
          "height": 472
        },
        "id": "niyBA42TfSin",
        "outputId": "0eee5778-9cfd-4ba3-a7d9-42e166de8da9"
      },
      "outputs": [
        {
          "data": {
            "image/png": "[encoded data removed]",
            "text/plain": [
              "<Figure size 640x480 with 1 Axes>"
            ]
          },
          "metadata": {},
          "output_type": "display_data"
        }
      ],
      "source": [
        "plt.figure()\n",
        "plt.title(\"Accuracy\")\n",
        "plt.xlabel(\"Epochs\")\n",
        "plt.ylabel(\"Accuracy\")\n",
        "plt.plot(epochs_i, val_accs)\n",
        "plt.show()"
      ]
    },
    {
      "cell_type": "code",
      "execution_count": 89,
      "metadata": {
        "id": "TnR250QKe6QD"
      },
      "outputs": [],
      "source": [
        "stepi = []\n",
        "lossi = []"
      ]
    },
    {
      "cell_type": "code",
      "execution_count": 90,
      "metadata": {
        "id": "rZ7tSRFDevd8"
      },
      "outputs": [],
      "source": [
        "import random\n",
        "lr = 0.001\n",
        "momentum = 0.9\n",
        "optimizer = torch.optim.SGD(model.parameters(), lr=lr, momentum=momentum, nesterov=True)\n",
        "\n",
        "for i in range(100):\n",
        "  # minibatch construct\n",
        "  # forward pass\n",
        "  ix = random.randint(0,len(train_batches)-1)\n",
        "  out = model(train_batches[ix]['x'])\n",
        "  # print(out.shape)\n",
        "  loss = F.cross_entropy(out, train_batches[ix]['y']) #+ sum(torch.norm(p) for p in model.parameters())\n",
        "  \n",
        "  #update\n",
        "  optimizer.zero_grad()\n",
        "  loss.backward()\n",
        "  optimizer.step()\n",
        "  # scheduler.step()\n",
        "\n",
        "  stepi.append(i)\n",
        "  lossi.append(loss.log10().data.item())"
      ]
    },
    {
      "cell_type": "code",
      "execution_count": 91,
      "metadata": {
        "colab": {
          "base_uri": "https://localhost:8080/",
          "height": 490
        },
        "id": "vBdkSbele_1U",
        "outputId": "629256da-8a73-4945-a526-926880a5de8e"
      },
      "outputs": [
        {
          "data": {
            "text/plain": [
              "[<matplotlib.lines.Line2D at 0x7f078899d240>]"
            ]
          },
          "execution_count": 91,
          "metadata": {},
          "output_type": "execute_result"
        },
        {
          "data": {
            "image/png": "[encoded data removed]",
            "text/plain": [
              "<Figure size 640x480 with 1 Axes>"
            ]
          },
          "metadata": {},
          "output_type": "display_data"
        }
      ],
      "source": [
        "import matplotlib.pyplot as plt\n",
        "%matplotlib inline\n",
        "plt.figure()\n",
        "plt.title(\"Cross entropy loss\")\n",
        "plt.ylabel(\"loss\")\n",
        "plt.xlabel(\"batches\")\n",
        "plt.plot(stepi, lossi)"
      ]
    },
    {
      "cell_type": "code",
      "execution_count": 152,
      "metadata": {
        "colab": {
          "base_uri": "https://localhost:8080/"
        },
        "id": "1MyHzq6OT1j7",
        "outputId": "8b6a34c2-dcc2-4166-8047-93cc16acd5e1"
      },
      "outputs": [
        {
          "data": {
            "text/plain": [
              "array([    1,   194,  1153,   194,  8255,    78,   228,     5,     6,\n",
              "        1463,  4369,  5012,   134,    26,     4,   715,     8,   118,\n",
              "        1634,    14,   394,    20,    13,   119,   954,   189,   102,\n",
              "           5,   207,   110,  3103,    21,    14,    69,   188,     8,\n",
              "          30,    23,     7,     4,   249,   126,    93,     4,   114,\n",
              "           9,  2300,  1523,     5,   647,     4,   116,     9,    35,\n",
              "        8163,     4,   229,     9,   340,  1322,     4,   118,     9,\n",
              "           4,   130,  4901,    19,     4,  1002,     5,    89,    29,\n",
              "         952,    46,    37,     4,   455,     9,    45,    43,    38,\n",
              "        1543,  1905,   398,     4,  1649,    26,  6853,     5,   163,\n",
              "          11,  3215, 10156,     4,  1153,     9,   194,   775,     7,\n",
              "        8255, 11596,   349,  2637,   148,   605, 15358,  8003,    15,\n",
              "         123,   125,    68,  6853,    15,   349,   165,  4362,    98,\n",
              "           5,     4,   228,     9,    43,  1157,    15,   299,   120,\n",
              "           5,   120,   174,    11,   220,   175,   136,    50,     9,\n",
              "        4373,   228,  8255,     5,   656,   245,  2350,     5,     4,\n",
              "        9837,   131,   152,   491,    18,    32,  7464,  1212,    14,\n",
              "           9,     6,   371,    78,    22,   625,    64,  1382,     9,\n",
              "           8,   168,   145,    23,     4,  1690,    15,    16,     4,\n",
              "        1355,     5,    28,     6,    52,   154,   462,    33,    89,\n",
              "          78,   285,    16,   145,    95])"
            ]
          },
          "execution_count": 152,
          "metadata": {},
          "output_type": "execute_result"
        }
      ],
      "source": [
        "x_train_vocab = []\n",
        "x_test_vocab = []\n",
        "for i in range(0,train_size):\n",
        "  x_train_npi = np.array(x_train[i])\n",
        "  mask = x_train_npi <= 20000\n",
        "  x_train_vocab.append(x_train_npi[mask])\n",
        "\n",
        "for i in range(0,test_size):\n",
        "  x_test_npi = np.array(x_train[i])\n",
        "  mask = x_test_npi <= 20000\n",
        "  x_test_vocab.append(x_test_npi[mask])\n",
        "x_train_vocab[1]"
      ]
    },
    {
      "cell_type": "code",
      "execution_count": 153,
      "metadata": {
        "colab": {
          "base_uri": "https://localhost:8080/"
        },
        "id": "LYM4u5fKCBDt",
        "outputId": "87ee989b-6d73-459d-9547-d43cf306c538"
      },
      "outputs": [
        {
          "data": {
            "text/plain": [
              "(18000, 1000)"
            ]
          },
          "execution_count": 153,
          "metadata": {},
          "output_type": "execute_result"
        }
      ],
      "source": [
        "max_length=1000\n",
        "\n",
        "x_train_subset = np.zeros((train_size, max_length), dtype=int)\n",
        "x_test_subset = np.zeros((test_size, max_length), dtype=int)\n",
        "\n",
        "for i in range(0, train_size):\n",
        "  if(len(x_train_vocab[i]) < max_length):\n",
        "    x_train_subset[i] = np.pad(x_train_vocab[i], (0, max_length - len(x_train_vocab[i])), mode=\"constant\", constant_values = 0)\n",
        "  else:\n",
        "    x_train_subset[i] = x_train_vocab[i][:max_length]\n",
        "\n",
        "for i in range(0, test_size):\n",
        "  if(len(x_test_vocab[i]) < max_length):\n",
        "    x_test_subset[i] = np.pad(x_test_vocab[i], (0, max_length - len(x_test_vocab[i])), mode=\"constant\", constant_values = 0)\n",
        "  else:\n",
        "    x_test_subset[i] = x_test_vocab[i][:max_length]\n",
        "\n",
        "y_train_subset = y_train[:train_size]\n",
        "y_test_subset = y_test[:test_size]\n",
        "x_train_subset.shape"
      ]
    },
    {
      "cell_type": "code",
      "execution_count": 95,
      "metadata": {
        "colab": {
          "base_uri": "https://localhost:8080/",
          "height": 145
        },
        "id": "WQxQaxyxKIPm",
        "outputId": "b41fd6fc-c9f8-4cfb-c2f7-7b3269f046af"
      },
      "outputs": [
        {
          "data": {
            "application/vnd.google.colaboratory.intrinsic+json": {
              "type": "string"
            },
            "text/plain": [
              "\"[START] big hair big boobs bad music and a giant safety pin these are the words to best describe this terrible movie i love cheesy horror movies and i've seen hundreds but this had got to be on of the worst ever made the plot is paper thin and ridiculous the acting is an abomination the script is completely laughable the best is the end showdown with the cop and how he worked out who the killer is it's just so damn terribly written the clothes are sickening and funny in equal measures the hair is big lots of boobs bounce men wear those cut tee shirts that show off their sickening that men actually wore them and the music is just trash that plays over and over again in almost every scene there is trashy music boobs and taking away bodies and the gym still doesn't close for all joking aside this is a truly bad film whose only charm is to look back on the disaster that was the 80's and have a good old laugh at how bad everything was back then [OOV] [OOV] [OOV] [OOV] [OOV] [OOV] [OOV] [OOV] [OOV] [OOV] [OOV] [OOV] [OOV] [OOV] [OOV] [OOV] [OOV] [OOV] [OOV] [OOV] [OOV] [OOV] [OOV] [OOV] [OOV] [OOV] [OOV] [OOV] [OOV] [OOV] [OOV] [OOV] [OOV] [OOV] [OOV] [OOV] [OOV] [OOV] [OOV] [OOV] [OOV] [OOV] [OOV] [OOV] [OOV] [OOV] [OOV] [OOV] [OOV] [OOV] [OOV] [OOV] [OOV] [OOV] [OOV] [OOV] [OOV] [OOV] [OOV] [OOV] [OOV] [OOV] [OOV] [OOV] [OOV] [OOV] [OOV] [OOV] [OOV] [OOV] [OOV] [OOV] [OOV] [OOV] [OOV] [OOV] [OOV] [OOV] [OOV] [OOV] [OOV] [OOV] [OOV] [OOV] [OOV] [OOV] [OOV] [OOV] [OOV] [OOV] [OOV] [OOV] [OOV] [OOV] [OOV] [OOV] [OOV] [OOV] [OOV] [OOV] [OOV] [OOV] [OOV] [OOV] [OOV] [OOV] [OOV] [OOV] [OOV] [OOV] [OOV] [OOV] [OOV] [OOV] [OOV] [OOV] [OOV] [OOV] [OOV] [OOV] [OOV] [OOV] [OOV] [OOV] [OOV] [OOV] [OOV] [OOV] [OOV] [OOV] [OOV] [OOV] [OOV] [OOV] [OOV] [OOV] [OOV] [OOV] [OOV] [OOV] [OOV] [OOV] [OOV] [OOV] [OOV] [OOV] [OOV] [OOV] [OOV] [OOV] [OOV] [OOV] [OOV] [OOV] [OOV] [OOV] [OOV] [OOV] [OOV] [OOV] [OOV] [OOV] [OOV] [OOV] [OOV] [OOV] [OOV] [OOV] [OOV] [OOV] [OOV] [OOV] [OOV] [OOV] [OOV] [OOV] [OOV] [OOV] [OOV] [OOV] [OOV] [OOV] [OOV] [OOV] [OOV] [OOV] [OOV] [OOV] [OOV] [OOV] [OOV] [OOV] [OOV] [OOV] [OOV] [OOV] [OOV] [OOV] [OOV] [OOV] [OOV] [OOV] [OOV] [OOV] [OOV] [OOV] [OOV] [OOV] [OOV] [OOV] [OOV] [OOV] [OOV] [OOV] [OOV] [OOV] [OOV] [OOV] [OOV] [OOV] [OOV] [OOV] [OOV] [OOV] [OOV] [OOV] [OOV] [OOV] [OOV] [OOV] [OOV] [OOV] [OOV] [OOV] [OOV] [OOV] [OOV] [OOV] [OOV] [OOV] [OOV] [OOV] [OOV] [OOV] [OOV] [OOV] [OOV] [OOV] [OOV] [OOV] [OOV] [OOV] [OOV] [OOV] [OOV] [OOV] [OOV] [OOV] [OOV] [OOV] [OOV] [OOV] [OOV] [OOV] [OOV] [OOV] [OOV] [OOV] [OOV] [OOV] [OOV] [OOV] [OOV] [OOV] [OOV] [OOV] [OOV] [OOV] [OOV] [OOV] [OOV] [OOV] [OOV] [OOV] [OOV] [OOV] [OOV] [OOV] [OOV] [OOV] [OOV] [OOV] [OOV] [OOV] [OOV] [OOV] [OOV] [OOV] [OOV] [OOV] [OOV] [OOV] [OOV] [OOV] [OOV] [OOV] [OOV] [OOV] [OOV] [OOV] [OOV] [OOV] [OOV] [OOV] [OOV]\""
            ]
          },
          "execution_count": 95,
          "metadata": {},
          "output_type": "execute_result"
        }
      ],
      "source": [
        "decoded_sequence = \" \".join(inverted_word_index[i] for i in x_train_subset[1])\n",
        "decoded_sequence"
      ]
    },
    {
      "cell_type": "code",
      "execution_count": 162,
      "metadata": {
        "id": "AW0II1PtbxYA"
      },
      "outputs": [],
      "source": [
        "# create batches for SGD\n",
        "batch_size = 32\n",
        "train_batches = batchify_data(x_train_subset, y_train[:train_size], batch_size)\n",
        "test_batches = batchify_data(feature_matrix_test, y_test[:test_size], batch_size)"
      ]
    },
    {
      "cell_type": "code",
      "execution_count": 17,
      "metadata": {
        "id": "tUyKcwwuB0Qy"
      },
      "outputs": [
        {
          "ename": "NameError",
          "evalue": "name 'max_length' is not defined",
          "output_type": "error",
          "traceback": [
            "\u001b[0;31m---------------------------------------------------------------------------\u001b[0m",
            "\u001b[0;31mNameError\u001b[0m                                 Traceback (most recent call last)",
            "Cell \u001b[0;32mIn[17], line 8\u001b[0m\n\u001b[1;32m      2\u001b[0m vocab_size \u001b[39m=\u001b[39m \u001b[39m20001\u001b[39m\n\u001b[1;32m      3\u001b[0m \u001b[39m#################################\u001b[39;00m\n\u001b[1;32m      4\u001b[0m \u001b[39m# Model specification TODO\u001b[39;00m\n\u001b[1;32m      5\u001b[0m model \u001b[39m=\u001b[39m nn\u001b[39m.\u001b[39mSequential(\n\u001b[1;32m      6\u001b[0m           nn\u001b[39m.\u001b[39mEmbedding(vocab_size, embedding_dim, padding_idx \u001b[39m=\u001b[39m \u001b[39m0\u001b[39m),\n\u001b[1;32m      7\u001b[0m           nn\u001b[39m.\u001b[39mFlatten(),\n\u001b[0;32m----> 8\u001b[0m           nn\u001b[39m.\u001b[39mLinear(max_length \u001b[39m*\u001b[39m embedding_dim, \u001b[39m128\u001b[39m),\n\u001b[1;32m      9\u001b[0m           nn\u001b[39m.\u001b[39mTanh(),\n\u001b[1;32m     10\u001b[0m           nn\u001b[39m.\u001b[39mLinear(\u001b[39m128\u001b[39m, \u001b[39m256\u001b[39m),\n\u001b[1;32m     11\u001b[0m           nn\u001b[39m.\u001b[39mTanh(),\n\u001b[1;32m     12\u001b[0m           nn\u001b[39m.\u001b[39mLinear(\u001b[39m256\u001b[39m, \u001b[39m256\u001b[39m),\n\u001b[1;32m     13\u001b[0m           nn\u001b[39m.\u001b[39mTanh(),\n\u001b[1;32m     14\u001b[0m           nn\u001b[39m.\u001b[39mLinear(\u001b[39m256\u001b[39m, \u001b[39m2\u001b[39m)\n\u001b[1;32m     15\u001b[0m         )\n",
            "\u001b[0;31mNameError\u001b[0m: name 'max_length' is not defined"
          ]
        }
      ],
      "source": [
        "embedding_dim = 30\n",
        "vocab_size = 20001\n",
        "#################################\n",
        "# Model specification TODO\n",
        "model = nn.Sequential(\n",
        "          nn.Embedding(vocab_size, embedding_dim, padding_idx = 0),\n",
        "          nn.Flatten(),\n",
        "          nn.Linear(max_length * embedding_dim, 128),\n",
        "          nn.Tanh(),\n",
        "          nn.Linear(128, 256),\n",
        "          nn.Tanh(),\n",
        "          nn.Linear(256, 256),\n",
        "          nn.Tanh(),\n",
        "          nn.Linear(256, 2)\n",
        "        )"
      ]
    },
    {
      "cell_type": "code",
      "execution_count": 167,
      "metadata": {
        "colab": {
          "base_uri": "https://localhost:8080/",
          "height": 1000
        },
        "id": "ZndUsb2cbfP_",
        "outputId": "36937bd1-11a7-43ce-f872-ff0028ab6522"
      },
      "outputs": [
        {
          "name": "stdout",
          "output_type": "stream",
          "text": [
            "-------------\n",
            "Epoch 1:\n",
            "\n"
          ]
        },
        {
          "name": "stderr",
          "output_type": "stream",
          "text": [
            "100%|██████████| 562/562 [00:12<00:00, 46.01it/s]\n"
          ]
        },
        {
          "name": "stdout",
          "output_type": "stream",
          "text": [
            "Train loss: 47.985553 | Train accuracy: 0.518961\n"
          ]
        },
        {
          "name": "stderr",
          "output_type": "stream",
          "text": [
            "100%|██████████| 31/31 [00:00<00:00, 250.84it/s]\n"
          ]
        },
        {
          "name": "stdout",
          "output_type": "stream",
          "text": [
            "Val loss:   47.790327 | Val accuracy:   0.492944\n",
            "-------------\n",
            "Epoch 2:\n",
            "\n"
          ]
        },
        {
          "name": "stderr",
          "output_type": "stream",
          "text": [
            "100%|██████████| 562/562 [00:11<00:00, 46.90it/s]\n"
          ]
        },
        {
          "name": "stdout",
          "output_type": "stream",
          "text": [
            "Train loss: 47.636886 | Train accuracy: 0.561277\n"
          ]
        },
        {
          "name": "stderr",
          "output_type": "stream",
          "text": [
            "100%|██████████| 31/31 [00:00<00:00, 263.11it/s]\n"
          ]
        },
        {
          "name": "stdout",
          "output_type": "stream",
          "text": [
            "Val loss:   47.511433 | Val accuracy:   0.525202\n",
            "-------------\n",
            "Epoch 3:\n",
            "\n"
          ]
        },
        {
          "name": "stderr",
          "output_type": "stream",
          "text": [
            "100%|██████████| 562/562 [00:11<00:00, 47.54it/s]\n"
          ]
        },
        {
          "name": "stdout",
          "output_type": "stream",
          "text": [
            "Train loss: 47.399271 | Train accuracy: 0.504504\n"
          ]
        },
        {
          "name": "stderr",
          "output_type": "stream",
          "text": [
            "100%|██████████| 31/31 [00:00<00:00, 258.79it/s]\n"
          ]
        },
        {
          "name": "stdout",
          "output_type": "stream",
          "text": [
            "Val loss:   47.286649 | Val accuracy:   0.525202\n",
            "-------------\n",
            "Epoch 4:\n",
            "\n"
          ]
        },
        {
          "name": "stderr",
          "output_type": "stream",
          "text": [
            "100%|██████████| 562/562 [00:11<00:00, 48.13it/s]\n"
          ]
        },
        {
          "name": "stdout",
          "output_type": "stream",
          "text": [
            "Train loss: 47.174459 | Train accuracy: 0.501001\n"
          ]
        },
        {
          "name": "stderr",
          "output_type": "stream",
          "text": [
            "100%|██████████| 31/31 [00:00<00:00, 240.38it/s]\n"
          ]
        },
        {
          "name": "stdout",
          "output_type": "stream",
          "text": [
            "Val loss:   47.061878 | Val accuracy:   0.525202\n",
            "-------------\n",
            "Epoch 5:\n",
            "\n"
          ]
        },
        {
          "name": "stderr",
          "output_type": "stream",
          "text": [
            " 68%|██████▊   | 381/562 [00:08<00:03, 46.33it/s]\n"
          ]
        },
        {
          "ename": "KeyboardInterrupt",
          "evalue": "ignored",
          "output_type": "error",
          "traceback": [
            "\u001b[0;31m---------------------------------------------------------------------------\u001b[0m",
            "\u001b[0;31mKeyboardInterrupt\u001b[0m                         Traceback (most recent call last)",
            "\u001b[0;32m<ipython-input-167-bc0a8ca6ccff>\u001b[0m in \u001b[0;36m<cell line: 2>\u001b[0;34m()\u001b[0m\n\u001b[1;32m      1\u001b[0m \u001b[0;31m# train the model\u001b[0m\u001b[0;34m\u001b[0m\u001b[0;34m\u001b[0m\u001b[0m\n\u001b[0;32m----> 2\u001b[0;31m \u001b[0mlosses_i\u001b[0m\u001b[0;34m,\u001b[0m \u001b[0mval_losses_i\u001b[0m\u001b[0;34m,\u001b[0m \u001b[0mval_accs\u001b[0m\u001b[0;34m,\u001b[0m \u001b[0mepochs_i\u001b[0m \u001b[0;34m=\u001b[0m \u001b[0mtrain_model\u001b[0m\u001b[0;34m(\u001b[0m\u001b[0mtrain_batches\u001b[0m\u001b[0;34m,\u001b[0m \u001b[0mtest_batches\u001b[0m\u001b[0;34m,\u001b[0m \u001b[0mmodel\u001b[0m\u001b[0;34m,\u001b[0m \u001b[0mlr\u001b[0m\u001b[0;34m=\u001b[0m\u001b[0;36m0.001\u001b[0m\u001b[0;34m,\u001b[0m \u001b[0mmomentum\u001b[0m \u001b[0;34m=\u001b[0m \u001b[0;36m0.9\u001b[0m\u001b[0;34m,\u001b[0m \u001b[0mnesterov\u001b[0m\u001b[0;34m=\u001b[0m\u001b[0;32mTrue\u001b[0m\u001b[0;34m,\u001b[0m \u001b[0mn_epochs\u001b[0m \u001b[0;34m=\u001b[0m \u001b[0;36m10\u001b[0m\u001b[0;34m)\u001b[0m\u001b[0;34m\u001b[0m\u001b[0;34m\u001b[0m\u001b[0m\n\u001b[0m\u001b[1;32m      3\u001b[0m \u001b[0;34m\u001b[0m\u001b[0m\n\u001b[1;32m      4\u001b[0m \u001b[0;31m# # Evaluate the model on test data\u001b[0m\u001b[0;34m\u001b[0m\u001b[0;34m\u001b[0m\u001b[0m\n\u001b[1;32m      5\u001b[0m \u001b[0mloss\u001b[0m\u001b[0;34m,\u001b[0m \u001b[0maccuracy\u001b[0m \u001b[0;34m=\u001b[0m \u001b[0mrun_epoch\u001b[0m\u001b[0;34m(\u001b[0m\u001b[0mtest_batches\u001b[0m\u001b[0;34m,\u001b[0m \u001b[0mmodel\u001b[0m\u001b[0;34m.\u001b[0m\u001b[0meval\u001b[0m\u001b[0;34m(\u001b[0m\u001b[0;34m)\u001b[0m\u001b[0;34m,\u001b[0m \u001b[0;32mNone\u001b[0m\u001b[0;34m)\u001b[0m\u001b[0;34m\u001b[0m\u001b[0;34m\u001b[0m\u001b[0m\n",
            "\u001b[0;32m<ipython-input-157-eb40c3cb74cb>\u001b[0m in \u001b[0;36mtrain_model\u001b[0;34m(train_data, dev_data, model, lr, momentum, nesterov, n_epochs)\u001b[0m\n\u001b[1;32m     12\u001b[0m \u001b[0;34m\u001b[0m\u001b[0m\n\u001b[1;32m     13\u001b[0m         \u001b[0;31m# Run **training***\u001b[0m\u001b[0;34m\u001b[0m\u001b[0;34m\u001b[0m\u001b[0m\n\u001b[0;32m---> 14\u001b[0;31m         \u001b[0mloss\u001b[0m\u001b[0;34m,\u001b[0m \u001b[0macc\u001b[0m \u001b[0;34m=\u001b[0m \u001b[0mrun_epoch\u001b[0m\u001b[0;34m(\u001b[0m\u001b[0mtrain_data\u001b[0m\u001b[0;34m,\u001b[0m \u001b[0mmodel\u001b[0m\u001b[0;34m.\u001b[0m\u001b[0mtrain\u001b[0m\u001b[0;34m(\u001b[0m\u001b[0;34m)\u001b[0m\u001b[0;34m,\u001b[0m \u001b[0moptimizer\u001b[0m\u001b[0;34m)\u001b[0m\u001b[0;34m\u001b[0m\u001b[0;34m\u001b[0m\u001b[0m\n\u001b[0m\u001b[1;32m     15\u001b[0m         \u001b[0mprint\u001b[0m\u001b[0;34m(\u001b[0m\u001b[0;34m'Train loss: {:.6f} | Train accuracy: {:.6f}'\u001b[0m\u001b[0;34m.\u001b[0m\u001b[0mformat\u001b[0m\u001b[0;34m(\u001b[0m\u001b[0mloss\u001b[0m\u001b[0;34m,\u001b[0m \u001b[0macc\u001b[0m\u001b[0;34m)\u001b[0m\u001b[0;34m)\u001b[0m\u001b[0;34m\u001b[0m\u001b[0;34m\u001b[0m\u001b[0m\n\u001b[1;32m     16\u001b[0m         \u001b[0mlosses_i\u001b[0m\u001b[0;34m.\u001b[0m\u001b[0mappend\u001b[0m\u001b[0;34m(\u001b[0m\u001b[0mloss\u001b[0m\u001b[0;34m)\u001b[0m\u001b[0;34m\u001b[0m\u001b[0;34m\u001b[0m\u001b[0m\n",
            "\u001b[0;32m<ipython-input-158-20139098a9f4>\u001b[0m in \u001b[0;36mrun_epoch\u001b[0;34m(data, model, optimizer)\u001b[0m\n\u001b[1;32m     27\u001b[0m         \u001b[0;32mif\u001b[0m \u001b[0mis_training\u001b[0m\u001b[0;34m:\u001b[0m\u001b[0;34m\u001b[0m\u001b[0;34m\u001b[0m\u001b[0m\n\u001b[1;32m     28\u001b[0m             \u001b[0moptimizer\u001b[0m\u001b[0;34m.\u001b[0m\u001b[0mzero_grad\u001b[0m\u001b[0;34m(\u001b[0m\u001b[0;34m)\u001b[0m\u001b[0;34m\u001b[0m\u001b[0;34m\u001b[0m\u001b[0m\n\u001b[0;32m---> 29\u001b[0;31m             \u001b[0mloss\u001b[0m\u001b[0;34m.\u001b[0m\u001b[0mbackward\u001b[0m\u001b[0;34m(\u001b[0m\u001b[0;34m)\u001b[0m\u001b[0;34m\u001b[0m\u001b[0;34m\u001b[0m\u001b[0m\n\u001b[0m\u001b[1;32m     30\u001b[0m             \u001b[0moptimizer\u001b[0m\u001b[0;34m.\u001b[0m\u001b[0mstep\u001b[0m\u001b[0;34m(\u001b[0m\u001b[0;34m)\u001b[0m\u001b[0;34m\u001b[0m\u001b[0;34m\u001b[0m\u001b[0m\n\u001b[1;32m     31\u001b[0m \u001b[0;34m\u001b[0m\u001b[0m\n",
            "\u001b[0;32m/usr/local/lib/python3.10/dist-packages/torch/_tensor.py\u001b[0m in \u001b[0;36mbackward\u001b[0;34m(self, gradient, retain_graph, create_graph, inputs)\u001b[0m\n\u001b[1;32m    485\u001b[0m                 \u001b[0minputs\u001b[0m\u001b[0;34m=\u001b[0m\u001b[0minputs\u001b[0m\u001b[0;34m,\u001b[0m\u001b[0;34m\u001b[0m\u001b[0;34m\u001b[0m\u001b[0m\n\u001b[1;32m    486\u001b[0m             )\n\u001b[0;32m--> 487\u001b[0;31m         torch.autograd.backward(\n\u001b[0m\u001b[1;32m    488\u001b[0m             \u001b[0mself\u001b[0m\u001b[0;34m,\u001b[0m \u001b[0mgradient\u001b[0m\u001b[0;34m,\u001b[0m \u001b[0mretain_graph\u001b[0m\u001b[0;34m,\u001b[0m \u001b[0mcreate_graph\u001b[0m\u001b[0;34m,\u001b[0m \u001b[0minputs\u001b[0m\u001b[0;34m=\u001b[0m\u001b[0minputs\u001b[0m\u001b[0;34m\u001b[0m\u001b[0;34m\u001b[0m\u001b[0m\n\u001b[1;32m    489\u001b[0m         )\n",
            "\u001b[0;32m/usr/local/lib/python3.10/dist-packages/torch/autograd/__init__.py\u001b[0m in \u001b[0;36mbackward\u001b[0;34m(tensors, grad_tensors, retain_graph, create_graph, grad_variables, inputs)\u001b[0m\n\u001b[1;32m    198\u001b[0m     \u001b[0;31m# some Python versions print out the first line of a multi-line function\u001b[0m\u001b[0;34m\u001b[0m\u001b[0;34m\u001b[0m\u001b[0m\n\u001b[1;32m    199\u001b[0m     \u001b[0;31m# calls in the traceback and some print out the last line\u001b[0m\u001b[0;34m\u001b[0m\u001b[0;34m\u001b[0m\u001b[0m\n\u001b[0;32m--> 200\u001b[0;31m     Variable._execution_engine.run_backward(  # Calls into the C++ engine to run the backward pass\n\u001b[0m\u001b[1;32m    201\u001b[0m         \u001b[0mtensors\u001b[0m\u001b[0;34m,\u001b[0m \u001b[0mgrad_tensors_\u001b[0m\u001b[0;34m,\u001b[0m \u001b[0mretain_graph\u001b[0m\u001b[0;34m,\u001b[0m \u001b[0mcreate_graph\u001b[0m\u001b[0;34m,\u001b[0m \u001b[0minputs\u001b[0m\u001b[0;34m,\u001b[0m\u001b[0;34m\u001b[0m\u001b[0;34m\u001b[0m\u001b[0m\n\u001b[1;32m    202\u001b[0m         allow_unreachable=True, accumulate_grad=True)  # Calls into the C++ engine to run the backward pass\n",
            "\u001b[0;31mKeyboardInterrupt\u001b[0m: "
          ]
        }
      ],
      "source": [
        "# train the model\n",
        "losses_i, val_losses_i, val_accs, epochs_i = train_model(train_batches, test_batches, model, lr=0.001, momentum = 0.9, nesterov=True, n_epochs = 10)\n",
        "\n",
        "# # Evaluate the model on test data\n",
        "loss, accuracy = run_epoch(test_batches, model.eval(), None)\n",
        "\n",
        "print (\"Loss on test set:\"  + str(loss) + \" Accuracy on test set: \" + str(accuracy))"
      ]
    },
    {
      "cell_type": "code",
      "execution_count": 149,
      "metadata": {
        "id": "zE_4d4PnL_k_"
      },
      "outputs": [],
      "source": [
        "stepi = []\n",
        "lossi = []"
      ]
    },
    {
      "cell_type": "code",
      "execution_count": 150,
      "metadata": {
        "colab": {
          "base_uri": "https://localhost:8080/"
        },
        "id": "8WMKKEdrLl9n",
        "outputId": "2e251d2c-f05c-4274-be7a-c5cefb88340a"
      },
      "outputs": [
        {
          "name": "stderr",
          "output_type": "stream",
          "text": [
            "<ipython-input-150-b7012c53f968>:13: FutureWarning: Using a non-tuple sequence for multidimensional indexing is deprecated; use `arr[tuple(seq)]` instead of `arr[seq]`. In the future this will be interpreted as an array index, `arr[np.array(seq)]`, which will result either in an error or a different result.\n",
            "  out = model(torch.tensor(x_train_subset[[ix]]))\n",
            "<ipython-input-150-b7012c53f968>:15: FutureWarning: Using a non-tuple sequence for multidimensional indexing is deprecated; use `arr[tuple(seq)]` instead of `arr[seq]`. In the future this will be interpreted as an array index, `arr[np.array(seq)]`, which will result either in an error or a different result.\n",
            "  loss = F.cross_entropy(out, torch.tensor(y_train_subset[[ix]])) #+ sum(torch.norm(p) for p in model.parameters())\n"
          ]
        }
      ],
      "source": [
        "import random\n",
        "lr = 0.001\n",
        "momentum = 0.9\n",
        "optimizer = torch.optim.SGD(model.parameters(), lr=lr, momentum=momentum, nesterov=True)\n",
        "\n",
        "for i in range(10000):\n",
        "  # minibatch construct\n",
        "  # forward pass\n",
        "  ix = []\n",
        "  for j in range(32):\n",
        "    ix.append(random.randint(0,len(x_train_subset)-1))\n",
        "\n",
        "  out = model(torch.tensor(x_train_subset[[ix]]))\n",
        "  # print(out.shape)\n",
        "  loss = F.cross_entropy(out, torch.tensor(y_train_subset[[ix]])) #+ sum(torch.norm(p) for p in model.parameters())\n",
        "  \n",
        "  #update\n",
        "  optimizer.zero_grad()\n",
        "  loss.backward()\n",
        "  optimizer.step()\n",
        "  # scheduler.step()\n",
        "\n",
        "  stepi.append(i)\n",
        "  lossi.append(loss.log10().data.item())"
      ]
    },
    {
      "cell_type": "code",
      "execution_count": 151,
      "metadata": {
        "colab": {
          "base_uri": "https://localhost:8080/",
          "height": 490
        },
        "id": "cS1X9atZQP7p",
        "outputId": "60ff434b-bf67-45c8-ef98-ab4538d5ae38"
      },
      "outputs": [
        {
          "data": {
            "text/plain": [
              "[<matplotlib.lines.Line2D at 0x7f31a8e5a740>]"
            ]
          },
          "execution_count": 151,
          "metadata": {},
          "output_type": "execute_result"
        },
        {
          "data": {
            "image/png": "[encoded data removed]",
            "text/plain": [
              "<Figure size 640x480 with 1 Axes>"
            ]
          },
          "metadata": {},
          "output_type": "display_data"
        }
      ],
      "source": [
        "import matplotlib.pyplot as plt\n",
        "%matplotlib inline\n",
        "plt.figure()\n",
        "plt.title(\"Cross entropy loss\")\n",
        "plt.ylabel(\"loss\")\n",
        "plt.xlabel(\"batches\")\n",
        "plt.plot(stepi, lossi)"
      ]
    }
  ],
  "metadata": {
    "colab": {
      "collapsed_sections": [
        "SVxVvba7bLBQ"
      ],
      "provenance": [],
      "toc_visible": true
    },
    "kernelspec": {
      "display_name": "Python 3",
      "name": "python3"
    },
    "language_info": {
      "codemirror_mode": {
        "name": "ipython",
        "version": 3
      },
      "file_extension": ".py",
      "mimetype": "text/x-python",
      "name": "python",
      "nbconvert_exporter": "python",
      "pygments_lexer": "ipython3",
      "version": "3.11.3"
    }
  },
  "nbformat": 4,
  "nbformat_minor": 0
}
