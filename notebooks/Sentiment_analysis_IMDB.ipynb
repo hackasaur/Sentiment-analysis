{
  "cells": [
    {
      "cell_type": "code",
      "execution_count": 1,
      "metadata": {
        "id": "uIO926fJ4f0k"
      },
      "outputs": [
        {
          "name": "stderr",
          "output_type": "stream",
          "text": [
            "2023-06-15 13:23:25.261906: I tensorflow/tsl/cuda/cudart_stub.cc:28] Could not find cuda drivers on your machine, GPU will not be used.\n",
            "2023-06-15 13:23:25.514220: I tensorflow/tsl/cuda/cudart_stub.cc:28] Could not find cuda drivers on your machine, GPU will not be used.\n",
            "2023-06-15 13:23:25.515877: I tensorflow/core/platform/cpu_feature_guard.cc:182] This TensorFlow binary is optimized to use available CPU instructions in performance-critical operations.\n",
            "To enable the following instructions: AVX2 FMA, in other operations, rebuild TensorFlow with the appropriate compiler flags.\n",
            "2023-06-15 13:23:26.780103: W tensorflow/compiler/tf2tensorrt/utils/py_utils.cc:38] TF-TRT Warning: Could not find TensorRT\n"
          ]
        }
      ],
      "source": [
        "import numpy as np\n",
        "import tensorflow as tf\n",
        "from tqdm import tqdm\n",
        "from sklearn import svm\n",
        "from keras.datasets import imdb"
      ]
    },
    {
      "attachments": {},
      "cell_type": "markdown",
      "metadata": {
        "id": "bJmxRgksbUU_"
      },
      "source": [
        "## Load the dataset"
      ]
    },
    {
      "cell_type": "code",
      "execution_count": 45,
      "metadata": {
        "colab": {
          "base_uri": "https://localhost:8080/",
          "height": 200
        },
        "id": "hGMHVIcs4ROU",
        "outputId": "90851a65-0f15-444e-9ad0-f7ff6b68b9e5"
      },
      "outputs": [
        {
          "name": "stdout",
          "output_type": "stream",
          "text": [
            "(25000,) (25000,)\n"
          ]
        }
      ],
      "source": [
        "# Use the default parameters to keras.datasets.imdb.load_data\n",
        "start_char = 1\n",
        "oov_char = 2\n",
        "index_from = 3\n",
        "vocab_size = 30000\n",
        "\n",
        "(x_train, y_train), (x_test, y_test) = imdb.load_data(\n",
        "    path=\"imdb.npz\",\n",
        "    num_words=vocab_size,\n",
        "    skip_top=10,\n",
        "    maxlen=None,\n",
        "    seed=113,\n",
        "    start_char=start_char,\n",
        "    oov_char=oov_char,\n",
        "    index_from=index_from,\n",
        ")\n",
        "\n",
        "print(x_train.shape, x_test.shape)\n",
        "\n",
        "# Retrieve the word index file mapping words to indices\n",
        "word_index = imdb.get_word_index()\n",
        "# Reverse the word index to obtain a dict mapping indices to words\n",
        "# And add `index_from` to indices to sync with `x_train`\n",
        "inverted_word_index = dict(\n",
        "    (i + index_from, word) for (word, i) in word_index.items()\n",
        ")\n",
        "# Update `inverted_word_index` to include `start_char` and `oov_char`\n",
        "# inverted_word_index[start_char] = \"[START]\"\n",
        "# inverted_word_index[oov_char] = \"[OOV]\"\n",
        "# Decode the first sequence in the dataset\n",
        "# decoded_sequence = \" \".join(inverted_word_index[i] for i in x_train[2])\n",
        "# decoded_sequence"
      ]
    },
    {
      "attachments": {},
      "cell_type": "markdown",
      "metadata": {},
      "source": [
        "Turns out that the word indexing is almost in the same order as the word's frequency"
      ]
    },
    {
      "cell_type": "code",
      "execution_count": 7,
      "metadata": {
        "colab": {
          "base_uri": "https://localhost:8080/"
        },
        "id": "vQvTKH8ARGEY",
        "outputId": "f83b73e8-9eb6-40af-b1f0-128355aeae3d"
      },
      "outputs": [
        {
          "name": "stdout",
          "output_type": "stream",
          "text": [
            "[ 4  5  6  7  8  9 10 11 12 13]\n",
            "the\n",
            "and\n",
            "a\n",
            "of\n",
            "to\n",
            "is\n",
            "br\n",
            "in\n",
            "it\n",
            "i\n"
          ]
        }
      ],
      "source": [
        "flat_array = np.concatenate(x_train)\n",
        "\n",
        "# Count the frequencies of each integer\n",
        "unique_values, value_counts = np.unique(flat_array, return_counts=True)\n",
        "\n",
        "# Sort the integers based on their frequencies in descending order\n",
        "sorted_indices = np.argsort(value_counts)[::-1]\n",
        "\n",
        "# Retrieve the integers with the highest frequencies\n",
        "most_frequent_integers = unique_values[sorted_indices]\n",
        "\n",
        "print(most_frequent_integers[0:10])\n",
        "# Print the words corresponding to the most frequent integers\n",
        "for i in most_frequent_integers[0:10]:\n",
        "  print(inverted_word_index[i])"
      ]
    },
    {
      "cell_type": "code",
      "execution_count": 4,
      "metadata": {
        "id": "DUrFcy74a3NH"
      },
      "outputs": [],
      "source": [
        "word_index[\"[START]\"] = 1\n",
        "word_index[\"[OOV]\"] = 2"
      ]
    },
    {
      "cell_type": "code",
      "execution_count": 29,
      "metadata": {
        "id": "Ah44EgFjQkIL"
      },
      "outputs": [],
      "source": [
        "def extract_bow_feature_vectors(reviews, word_by_indices, binarize=False):\n",
        "    \"\"\"\n",
        "    Args:\n",
        "        `reviews` - a list of natural language strings\n",
        "        `indices_by_word` - a dictionary of uniquely-indexed words.\n",
        "    Returns:\n",
        "        a matrix representing each review via bag-of-words features.  This\n",
        "        matrix thus has shape (n, m), where n counts reviews and m counts words\n",
        "        in the dictionary.\n",
        "    \"\"\"\n",
        "\n",
        "    feature_matrix = np.zeros([len(reviews), vocab_size], dtype=np.float32)\n",
        "    for i, word_indices in enumerate(reviews):\n",
        "        for word_index in word_indices:\n",
        "            if word_index not in word_by_indices : continue\n",
        "            elif binarize:\n",
        "                feature_matrix[i, word_index] = 1\n",
        "            elif not binarize:\n",
        "                feature_matrix[i, word_index] += 1\n",
        "    print(feature_matrix[1][1:10])\n",
        "    return feature_matrix   \n"
      ]
    },
    {
      "cell_type": "code",
      "execution_count": 46,
      "metadata": {
        "colab": {
          "base_uri": "https://localhost:8080/"
        },
        "id": "odkFTHdRWcXO",
        "outputId": "770599a4-a916-4355-a884-1004279c2c1c"
      },
      "outputs": [
        {
          "name": "stdout",
          "output_type": "stream",
          "text": [
            "[0. 0. 0. 0. 0. 0. 0. 0. 0.]\n",
            "[0. 0. 0. 0. 0. 0. 0. 0. 0.]\n"
          ]
        }
      ],
      "source": [
        "train_size = 20000\n",
        "test_size = 2000\n",
        "feature_matrix_train = extract_bow_feature_vectors(x_train[:train_size], inverted_word_index, binarize=False)\n",
        "feature_matrix_test = extract_bow_feature_vectors(x_test[:test_size], inverted_word_index, binarize=False)"
      ]
    },
    {
      "attachments": {},
      "cell_type": "markdown",
      "metadata": {
        "id": "_P6cZYtCbgo2"
      },
      "source": [
        "## NN"
      ]
    },
    {
      "cell_type": "code",
      "execution_count": 7,
      "metadata": {
        "id": "fMwYj9rNcNHv"
      },
      "outputs": [],
      "source": [
        "import torch\n",
        "import torch.autograd as autograd\n",
        "import torch.nn.functional as F\n",
        "import torch.nn as nn"
      ]
    },
    {
      "cell_type": "code",
      "execution_count": 24,
      "metadata": {
        "id": "jtePGw6ab5R1"
      },
      "outputs": [],
      "source": [
        "def batchify_data(x_data, y_data, batch_size):\n",
        "    \"\"\"Takes a set of data points and labels and groups them into batches.\"\"\"\n",
        "    # Only take batch_size chunks (i.e. drop the remainder)\n",
        "    N = int(len(x_data) / batch_size) * batch_size\n",
        "    batches = []\n",
        "    for i in range(0, N, batch_size):\n",
        "        batches.append({\n",
        "            'x': x_data[i:i+batch_size],\n",
        "            'y': y_data[i:i+batch_size]})\n",
        "    return batches\n",
        "\n",
        "def compute_accuracy(predictions, y):\n",
        "    \"\"\"Computes the accuracy of predictions against the gold labels, y.\"\"\"\n",
        "    return np.mean(np.equal(predictions.numpy(), y))"
      ]
    },
    {
      "cell_type": "code",
      "execution_count": 49,
      "metadata": {
        "id": "H5kgwlUtcV6n"
      },
      "outputs": [],
      "source": [
        "# create batches for SGD\n",
        "batch_size = 32\n",
        "train_batches = batchify_data(feature_matrix_train, y_train[:train_size], batch_size)\n",
        "test_batches = batchify_data(feature_matrix_test, y_test[:test_size], batch_size)"
      ]
    },
    {
      "cell_type": "code",
      "execution_count": 50,
      "metadata": {
        "colab": {
          "base_uri": "https://localhost:8080/"
        },
        "id": "TsuHK3eKdqSr",
        "outputId": "c1f34ece-f1f5-4cff-ad65-a2fc2d8c41ee"
      },
      "outputs": [
        {
          "data": {
            "text/plain": [
              "((20000, 30000), (32, 30000), (32,), 625)"
            ]
          },
          "execution_count": 50,
          "metadata": {},
          "output_type": "execute_result"
        }
      ],
      "source": [
        "feature_matrix_train.shape, train_batches[0][\"x\"].shape, train_batches[0][\"y\"].shape, len(train_batches), "
      ]
    },
    {
      "cell_type": "code",
      "execution_count": 33,
      "metadata": {
        "id": "qpTqp9TjcGXi"
      },
      "outputs": [],
      "source": [
        "def run_epoch(data, model, optimizer):\n",
        "    \"\"\"Train model for one pass of train data, and return loss, acccuracy\"\"\"\n",
        "    # Gather losses\n",
        "    losses = []\n",
        "    batch_accuracies = []\n",
        "\n",
        "    # If model is in train mode, use optimizer.\n",
        "    is_training = model.training\n",
        "\n",
        "    # Iterate through batches\n",
        "    for batch in data:#tqdm(data):\n",
        "        # Grab x and y\n",
        "        x, y = batch['x'], batch['y']\n",
        "\n",
        "        # Get output predictions\n",
        "        out = model(torch.tensor(x, dtype = torch.float32))\n",
        "\n",
        "        # Predict and store accuracy\n",
        "        predictions = torch.argmax(out, dim=1)\n",
        "        batch_accuracies.append(compute_accuracy(predictions, y))\n",
        "\n",
        "        # Compute loss\n",
        "        loss = F.cross_entropy(out, torch.tensor(y, dtype=torch.long)) #+ 0.1*sum(torch.norm(p) for p in model.parameters())\n",
        "        losses.append(loss.data.item())\n",
        "\n",
        "        # If training, do an update.\n",
        "        if is_training:\n",
        "            optimizer.zero_grad()\n",
        "            loss.backward()\n",
        "            optimizer.step()\n",
        "\n",
        "    # Calculate epoch level scores\n",
        "    avg_loss = np.mean(losses)\n",
        "    avg_accuracy = np.mean(batch_accuracies)\n",
        "    return avg_loss, avg_accuracy\n",
        "\n",
        "def train_model(train_data, dev_data, model, lr=0.1, momentum=0.1, nesterov=False, n_epochs=30):\n",
        "    \"\"\"Train a model for N epochs given data and hyper-params.\"\"\"\n",
        "    # We optimize with SGD\n",
        "    optimizer = torch.optim.SGD(model.parameters(), lr=lr, momentum=momentum, nesterov=nesterov)\n",
        "    epochs_i = []\n",
        "    losses_i = []\n",
        "    val_losses_i = []\n",
        "    val_accs_i = []\n",
        "\n",
        "    for epoch in range(1, n_epochs+1):\n",
        "        print(\"-------------\\nEpoch {}:\\n\".format(epoch))\n",
        "\n",
        "        # Run **training***\n",
        "        loss, acc = run_epoch(train_data, model.train(), optimizer)\n",
        "        print('Train loss: {:.6f} | Train accuracy: {:.6f}'.format(loss, acc))\n",
        "        losses_i.append(loss)\n",
        "        epochs_i.append(epoch)\n",
        "        # Run **validation**\n",
        "        val_loss, val_acc = run_epoch(dev_data, model.eval(), optimizer)\n",
        "        val_losses_i.append(val_loss)\n",
        "        val_accs_i.append(val_acc)\n",
        "        print('Val loss:   {:.6f} | Val accuracy:   {:.6f}'.format(val_loss, val_acc))\n",
        "        # Save model\n",
        "        torch.save(model, \"/notebooks/Sentiment_analysis_IMDB.pt\")\n",
        "    return losses_i, val_losses_i, val_accs_i, epochs_i"
      ]
    },
    {
      "cell_type": "code",
      "execution_count": 73,
      "metadata": {
        "colab": {
          "base_uri": "https://localhost:8080/",
          "height": 244
        },
        "id": "LlX1x9rbdFBk",
        "outputId": "7f4554fb-6ed5-4360-a464-84766f600f2a"
      },
      "outputs": [
        {
          "data": {
            "text/plain": [
              "Sequential(\n",
              "  (0): Linear(in_features=30000, out_features=128, bias=True)\n",
              "  (1): Tanh()\n",
              "  (2): Linear(in_features=128, out_features=128, bias=True)\n",
              "  (3): Tanh()\n",
              "  (4): Linear(in_features=128, out_features=128, bias=True)\n",
              "  (5): Tanh()\n",
              "  (6): Linear(in_features=128, out_features=2, bias=True)\n",
              ")"
            ]
          },
          "execution_count": 73,
          "metadata": {},
          "output_type": "execute_result"
        }
      ],
      "source": [
        "#################################\n",
        "## Model specification TODO\n",
        "model = nn.Sequential(\n",
        "          nn.Linear(feature_matrix_test.shape[1], 128),\n",
        "          nn.Tanh(),\n",
        "          nn.Linear(128, 128),\n",
        "          nn.Tanh(),\n",
        "          nn.Linear(128, 128),\n",
        "          nn.Tanh(),\n",
        "          nn.Linear(128, 2)\n",
        "        )\n",
        "##################################\n",
        "model"
      ]
    },
    {
      "cell_type": "code",
      "execution_count": 58,
      "metadata": {
        "colab": {
          "base_uri": "https://localhost:8080/"
        },
        "id": "6xtMfLbBd9cX",
        "outputId": "c5fc334b-b116-4bc1-b61b-0f9e8e0f900d"
      },
      "outputs": [
        {
          "name": "stdout",
          "output_type": "stream",
          "text": [
            "-------------\n",
            "Epoch 1:\n",
            "\n",
            "Train loss: 2.637131 | Train accuracy: 0.664350\n",
            "Val loss:   2.411405 | Val accuracy:   0.762601\n",
            "-------------\n",
            "Epoch 2:\n",
            "\n",
            "Train loss: 2.250442 | Train accuracy: 0.802350\n",
            "Val loss:   2.096127 | Val accuracy:   0.834173\n",
            "-------------\n",
            "Epoch 3:\n",
            "\n",
            "Train loss: 1.989326 | Train accuracy: 0.856200\n",
            "Val loss:   1.891566 | Val accuracy:   0.862399\n",
            "-------------\n",
            "Epoch 4:\n",
            "\n",
            "Train loss: 1.787427 | Train accuracy: 0.880150\n",
            "Val loss:   1.716459 | Val accuracy:   0.875000\n",
            "-------------\n",
            "Epoch 5:\n",
            "\n",
            "Train loss: 1.610085 | Train accuracy: 0.893450\n",
            "Val loss:   1.558878 | Val accuracy:   0.878528\n",
            "-------------\n",
            "Epoch 6:\n",
            "\n",
            "Train loss: 1.450321 | Train accuracy: 0.902900\n",
            "Val loss:   1.415925 | Val accuracy:   0.879536\n",
            "-------------\n",
            "Epoch 7:\n",
            "\n",
            "Train loss: 1.306636 | Train accuracy: 0.908650\n",
            "Val loss:   1.287262 | Val accuracy:   0.882560\n",
            "-------------\n",
            "Epoch 8:\n",
            "\n",
            "Train loss: 1.180266 | Train accuracy: 0.912700\n",
            "Val loss:   1.174305 | Val accuracy:   0.884073\n",
            "-------------\n",
            "Epoch 9:\n",
            "\n",
            "Train loss: 1.073210 | Train accuracy: 0.914650\n",
            "Val loss:   1.078904 | Val accuracy:   0.883569\n",
            "-------------\n",
            "Epoch 10:\n",
            "\n",
            "Train loss: 0.987624 | Train accuracy: 0.914600\n",
            "Val loss:   1.003094 | Val accuracy:   0.885081\n",
            "-------------\n",
            "Epoch 11:\n",
            "\n",
            "Train loss: 0.924504 | Train accuracy: 0.912600\n",
            "Val loss:   0.947396 | Val accuracy:   0.883569\n",
            "-------------\n",
            "Epoch 12:\n",
            "\n",
            "Train loss: 0.882425 | Train accuracy: 0.909700\n",
            "Val loss:   0.910147 | Val accuracy:   0.882056\n",
            "-------------\n",
            "Epoch 13:\n",
            "\n",
            "Train loss: 0.857308 | Train accuracy: 0.906200\n",
            "Val loss:   0.887066 | Val accuracy:   0.881552\n",
            "-------------\n",
            "Epoch 14:\n",
            "\n",
            "Train loss: 0.843673 | Train accuracy: 0.901600\n",
            "Val loss:   0.873304 | Val accuracy:   0.880544\n",
            "-------------\n",
            "Epoch 15:\n",
            "\n",
            "Train loss: 0.836729 | Train accuracy: 0.898050\n",
            "Val loss:   0.865205 | Val accuracy:   0.878024\n",
            "-------------\n",
            "Epoch 16:\n",
            "\n",
            "Train loss: 0.833263 | Train accuracy: 0.895600\n",
            "Val loss:   0.860096 | Val accuracy:   0.877016\n",
            "-------------\n",
            "Epoch 17:\n",
            "\n",
            "Train loss: 0.831517 | Train accuracy: 0.893100\n",
            "Val loss:   0.856491 | Val accuracy:   0.875504\n",
            "-------------\n",
            "Epoch 18:\n",
            "\n",
            "Train loss: 0.830604 | Train accuracy: 0.890800\n",
            "Val loss:   0.854225 | Val accuracy:   0.874496\n",
            "-------------\n",
            "Epoch 19:\n",
            "\n",
            "Train loss: 0.830122 | Train accuracy: 0.889400\n",
            "Val loss:   0.852514 | Val accuracy:   0.874496\n",
            "-------------\n",
            "Epoch 20:\n",
            "\n",
            "Train loss: 0.829836 | Train accuracy: 0.888000\n",
            "Val loss:   0.851219 | Val accuracy:   0.874496\n",
            "Loss on test set:0.8512194031669248 Accuracy on test set: 0.8744959677419355\n"
          ]
        }
      ],
      "source": [
        "# train the model\n",
        "losses_i, val_losses_i, val_accs, epochs_i = train_model(train_batches, test_batches, model, lr=0.001, momentum = 0.9, nesterov=True, n_epochs = 20)\n",
        "\n",
        "# # Evaluate the model on test data\n",
        "loss, accuracy = run_epoch(test_batches, model.eval(), None)\n",
        "\n",
        "print (\"Loss on test set:\"  + str(loss) + \" Accuracy on test set: \" + str(accuracy))"
      ]
    },
    {
      "cell_type": "code",
      "execution_count": 59,
      "metadata": {
        "colab": {
          "base_uri": "https://localhost:8080/",
          "height": 472
        },
        "id": "Hrq6Fw0uaAxF",
        "outputId": "1080346d-bed1-414e-ec65-909cc4362473"
      },
      "outputs": [
        {
          "data": {
            "image/png": "[encoded data removed]",
            "text/plain": [
              "<Figure size 640x480 with 1 Axes>"
            ]
          },
          "metadata": {},
          "output_type": "display_data"
        }
      ],
      "source": [
        "import matplotlib.pyplot as plt\n",
        "%matplotlib inline\n",
        "plt.figure()\n",
        "plt.title(\"Loss\")\n",
        "plt.xlabel(\"Epochs\")\n",
        "plt.ylabel(\"Loss\")\n",
        "plt.plot(epochs_i, losses_i, label = \"Train loss\")\n",
        "plt.plot(epochs_i, val_losses_i, label = \"Val loss\")\n",
        "plt.legend()\n",
        "plt.show()"
      ]
    },
    {
      "cell_type": "code",
      "execution_count": 79,
      "metadata": {
        "colab": {
          "base_uri": "https://localhost:8080/",
          "height": 472
        },
        "id": "niyBA42TfSin",
        "outputId": "0eee5778-9cfd-4ba3-a7d9-42e166de8da9"
      },
      "outputs": [
        {
          "data": {
            "image/png": "[encoded data removed]",
            "text/plain": [
              "<Figure size 640x480 with 1 Axes>"
            ]
          },
          "metadata": {},
          "output_type": "display_data"
        }
      ],
      "source": [
        "plt.figure()\n",
        "plt.title(\"Validation Accuracy\")\n",
        "plt.xlabel(\"Epochs\")\n",
        "plt.ylabel(\"Accuracy %\")\n",
        "plt.plot(epochs_i, val_accs)\n",
        "plt.show()"
      ]
    },
    {
      "cell_type": "code",
      "execution_count": 72,
      "metadata": {
        "id": "TnR250QKe6QD"
      },
      "outputs": [],
      "source": [
        "stepi = []\n",
        "lossi = []"
      ]
    },
    {
      "cell_type": "code",
      "execution_count": 74,
      "metadata": {
        "id": "rZ7tSRFDevd8"
      },
      "outputs": [],
      "source": [
        "import random\n",
        "lr = 0.001\n",
        "momentum = 0.9\n",
        "optimizer = torch.optim.SGD(model.parameters(), lr=lr, momentum=momentum, nesterov=True)\n",
        "\n",
        "for i in range(1000):\n",
        "  # minibatch construct\n",
        "  # forward pass\n",
        "  ix = random.randint(0,len(train_batches)-1)\n",
        "  out = model(torch.tensor(train_batches[ix]['x'], dtype= torch.float32))\n",
        "  # print(out.shape)\n",
        "  loss = F.cross_entropy(out, torch.tensor(train_batches[ix]['y'], dtype= torch.long)) + 0.1 * sum(torch.norm(p) for p in model.parameters())\n",
        "  \n",
        "  #update\n",
        "  optimizer.zero_grad()\n",
        "  loss.backward()\n",
        "  optimizer.step()\n",
        "  # scheduler.step()\n",
        "\n",
        "  stepi.append(i)\n",
        "  lossi.append(loss.log10().data.item())"
      ]
    },
    {
      "cell_type": "code",
      "execution_count": 77,
      "metadata": {
        "colab": {
          "base_uri": "https://localhost:8080/",
          "height": 490
        },
        "id": "vBdkSbele_1U",
        "outputId": "629256da-8a73-4945-a526-926880a5de8e"
      },
      "outputs": [
        {
          "data": {
            "text/plain": [
              "[<matplotlib.lines.Line2D at 0x7f632d55ef50>]"
            ]
          },
          "execution_count": 77,
          "metadata": {},
          "output_type": "execute_result"
        },
        {
          "data": {
            "image/png": "[encoded data removed]",
            "text/plain": [
              "<Figure size 640x480 with 1 Axes>"
            ]
          },
          "metadata": {},
          "output_type": "display_data"
        }
      ],
      "source": [
        "import matplotlib.pyplot as plt\n",
        "%matplotlib inline\n",
        "plt.figure()\n",
        "plt.title(\"Cross entropy loss\")\n",
        "plt.ylabel(\"loss\")\n",
        "plt.xlabel(\"batches\")\n",
        "plt.plot(stepi, lossi)"
      ]
    }
  ],
  "metadata": {
    "colab": {
      "collapsed_sections": [
        "SVxVvba7bLBQ"
      ],
      "provenance": [],
      "toc_visible": true
    },
    "kernelspec": {
      "display_name": "Python 3",
      "name": "python3"
    },
    "language_info": {
      "codemirror_mode": {
        "name": "ipython",
        "version": 3
      },
      "file_extension": ".py",
      "mimetype": "text/x-python",
      "name": "python",
      "nbconvert_exporter": "python",
      "pygments_lexer": "ipython3",
      "version": "3.11.3"
    }
  },
  "nbformat": 4,
  "nbformat_minor": 0
}
