{
  "cells": [
    {
      "cell_type": "code",
      "execution_count": 1,
      "metadata": {
        "id": "uIO926fJ4f0k"
      },
      "outputs": [
        {
          "name": "stderr",
          "output_type": "stream",
          "text": [
            "2023-06-16 12:02:44.433566: I tensorflow/tsl/cuda/cudart_stub.cc:28] Could not find cuda drivers on your machine, GPU will not be used.\n",
            "2023-06-16 12:02:44.679344: I tensorflow/tsl/cuda/cudart_stub.cc:28] Could not find cuda drivers on your machine, GPU will not be used.\n",
            "2023-06-16 12:02:44.680780: I tensorflow/core/platform/cpu_feature_guard.cc:182] This TensorFlow binary is optimized to use available CPU instructions in performance-critical operations.\n",
            "To enable the following instructions: AVX2 FMA, in other operations, rebuild TensorFlow with the appropriate compiler flags.\n",
            "2023-06-16 12:02:45.936654: W tensorflow/compiler/tf2tensorrt/utils/py_utils.cc:38] TF-TRT Warning: Could not find TensorRT\n"
          ]
        }
      ],
      "source": [
        "import numpy as np\n",
        "import tensorflow as tf\n",
        "from tqdm import tqdm\n",
        "from sklearn import svm\n",
        "from keras.datasets import imdb"
      ]
    },
    {
      "attachments": {},
      "cell_type": "markdown",
      "metadata": {
        "id": "bJmxRgksbUU_"
      },
      "source": [
        "## Load the dataset"
      ]
    },
    {
      "cell_type": "code",
      "execution_count": 2,
      "metadata": {
        "colab": {
          "base_uri": "https://localhost:8080/",
          "height": 200
        },
        "id": "hGMHVIcs4ROU",
        "outputId": "90851a65-0f15-444e-9ad0-f7ff6b68b9e5"
      },
      "outputs": [
        {
          "name": "stdout",
          "output_type": "stream",
          "text": [
            "(22882,) (23065,)\n"
          ]
        },
        {
          "data": {
            "text/plain": [
              "\"[OOV] this has [OOV] be one [OOV] [OOV] worst films [OOV] [OOV] 1990s when my friends i were watching this film being [OOV] target audience it was aimed at we just sat watched [OOV] first half an hour with our jaws touching [OOV] floor at how bad it really was [OOV] rest [OOV] [OOV] time everyone else in [OOV] theatre just started talking [OOV] each other leaving or generally crying into their popcorn that they actually paid money they had earnt working [OOV] watch this feeble excuse for [OOV] film it must have looked like [OOV] great idea on paper but on film it looks like no one in [OOV] film has [OOV] clue what [OOV] going on crap acting crap costumes i can't get across how embarrasing this [OOV] [OOV] watch save yourself an hour [OOV] bit [OOV] your life\""
            ]
          },
          "execution_count": 2,
          "metadata": {},
          "output_type": "execute_result"
        }
      ],
      "source": [
        "# Use the default parameters to keras.datasets.imdb.load_data\n",
        "start_char = 1\n",
        "oov_char = 2\n",
        "index_from = 3\n",
        "max_length = 500\n",
        "vocab_size = 60000\n",
        "\n",
        "(x_train, y_train), (x_test, y_test) = imdb.load_data(\n",
        "    path=\"imdb.npz\",\n",
        "    num_words=vocab_size,\n",
        "    skip_top=10,\n",
        "    maxlen=max_length,\n",
        "    seed=113,\n",
        "    start_char=start_char,\n",
        "    oov_char=oov_char,\n",
        "    index_from=index_from,\n",
        ")\n",
        "\n",
        "print(x_train.shape, x_test.shape)\n",
        "\n",
        "# Retrieve the word index file mapping words to indices\n",
        "word_index = imdb.get_word_index()\n",
        "# Reverse the word index to obtain a dict mapping indices to words\n",
        "# And add `index_from` to indices to sync with `x_train`\n",
        "inverted_word_index = dict(\n",
        "    (i + index_from, word) for (word, i) in word_index.items()\n",
        ")\n",
        "# Update `inverted_word_index` to include `start_char` and `oov_char`\n",
        "inverted_word_index[start_char] = \"[START]\"\n",
        "inverted_word_index[oov_char] = \"[OOV]\"\n",
        "# Decode the first sequence in the dataset\n",
        "decoded_sequence = \" \".join(inverted_word_index[i] for i in x_train[2])\n",
        "decoded_sequence"
      ]
    },
    {
      "cell_type": "code",
      "execution_count": 3,
      "metadata": {
        "colab": {
          "base_uri": "https://localhost:8080/"
        },
        "id": "odkFTHdRWcXO",
        "outputId": "770599a4-a916-4355-a884-1004279c2c1c"
      },
      "outputs": [],
      "source": [
        "train_size = 20000\n",
        "test_size = 2000\n",
        "x_train = x_train[:train_size]\n",
        "y_train = y_train[:train_size]\n",
        "x_test = x_test[:test_size]\n",
        "y_test = y_test[:test_size]"
      ]
    },
    {
      "attachments": {},
      "cell_type": "markdown",
      "metadata": {
        "id": "_P6cZYtCbgo2"
      },
      "source": [
        "## NN"
      ]
    },
    {
      "cell_type": "code",
      "execution_count": 4,
      "metadata": {
        "id": "fMwYj9rNcNHv"
      },
      "outputs": [],
      "source": [
        "import torch\n",
        "import torch.autograd as autograd\n",
        "import torch.nn.functional as F\n",
        "import torch.nn as nn"
      ]
    },
    {
      "cell_type": "code",
      "execution_count": 5,
      "metadata": {
        "id": "jtePGw6ab5R1"
      },
      "outputs": [],
      "source": [
        "def batchify_data(x_data, y_data, batch_size):\n",
        "    \"\"\"Takes a set of data points and labels and groups them into batches.\"\"\"\n",
        "    # Only take batch_size chunks (i.e. drop the remainder)\n",
        "    N = int(len(x_data) / batch_size) * batch_size\n",
        "    batches = []\n",
        "    for i in range(0, N, batch_size):\n",
        "        batches.append({\n",
        "            'x': x_data[i:i+batch_size],\n",
        "            'y': y_data[i:i+batch_size]})\n",
        "    return batches\n",
        "\n",
        "def compute_accuracy(predictions, y):\n",
        "    \"\"\"Computes the accuracy of predictions against the gold labels, y.\"\"\"\n",
        "    return np.mean(np.equal(predictions.numpy(), y))"
      ]
    },
    {
      "cell_type": "code",
      "execution_count": 32,
      "metadata": {
        "id": "qpTqp9TjcGXi"
      },
      "outputs": [],
      "source": [
        "def run_epoch(data, model, optimizer, embedding_matrix=False):\n",
        "    \"\"\"Train model for one pass of train data, and return loss, acccuracy\"\"\"\n",
        "    # Gather losses\n",
        "    losses = []\n",
        "    batch_accuracies = []\n",
        "\n",
        "    # If model is in train mode, use optimizer.\n",
        "    is_training = model.training\n",
        "\n",
        "    # Iterate through batches\n",
        "    for batch in data:#tqdm(data):\n",
        "        # Grab x and y\n",
        "        x, y = batch['x'], batch['y']\n",
        "\n",
        "        # Get output predictions\n",
        "        # if(embedding_matrix):\n",
        "        emb =  torch.tensor(embedding_matrix[x], dtype=torch.float32) \n",
        "        out = model(emb.view(-1, 50 * 500))\n",
        "        # else:\n",
        "            # out = model(x)\n",
        "\n",
        "        # Predict and store accuracy\n",
        "        predictions = torch.argmax(out, dim=1)\n",
        "        batch_accuracies.append(compute_accuracy(predictions, y))\n",
        "\n",
        "        # Compute loss\n",
        "        # loss = F.binary_cross_entropy(out, torch.tensor(y, dtype=torch.long)) + 0.1*sum(torch.norm(p) for p in model.parameters())\n",
        "        loss = F.cross_entropy(out, torch.tensor(y, dtype=torch.long)) + 0.1*sum(torch.norm(p) for p in model.parameters())\n",
        "        losses.append(loss.data.item())\n",
        "\n",
        "        # If training, do an update.\n",
        "        if is_training:\n",
        "            optimizer.zero_grad()\n",
        "            loss.backward()\n",
        "            optimizer.step()\n",
        "\n",
        "    # Calculate epoch level scores\n",
        "    avg_loss = np.mean(losses)\n",
        "    avg_accuracy = np.mean(batch_accuracies)\n",
        "    return avg_loss, avg_accuracy\n",
        "\n",
        "def train_model(train_data, dev_data, model, lr=0.1, momentum=0.1, nesterov=False, n_epochs=30, embedding_matrix=False):\n",
        "    \"\"\"Train a model for N epochs given data and hyper-params.\"\"\"\n",
        "    # We optimize with SGD\n",
        "    optimizer = torch.optim.SGD(model.parameters(), lr=lr, momentum=momentum, nesterov=nesterov)\n",
        "    epochs_i = []\n",
        "    losses_i = []\n",
        "    val_losses_i = []\n",
        "    val_accs_i = []\n",
        "\n",
        "    for epoch in range(1, n_epochs+1):\n",
        "        print(\"-------------\\nEpoch {}:\\n\".format(epoch))\n",
        "\n",
        "        # Run **training***\n",
        "        loss, acc = run_epoch(train_data, model.train(), optimizer, embedding_matrix)\n",
        "        print('Train loss: {:.6f} | Train accuracy: {:.6f}'.format(loss, acc))\n",
        "        losses_i.append(loss)\n",
        "        epochs_i.append(epoch)\n",
        "        # Run **validation**\n",
        "        val_loss, val_acc = run_epoch(dev_data, model.eval(), optimizer, embedding_matrix)\n",
        "        val_losses_i.append(val_loss)\n",
        "        val_accs_i.append(val_acc)\n",
        "        print('Val loss:   {:.6f} | Val accuracy:   {:.6f}'.format(val_loss, val_acc))\n",
        "        # Save model\n",
        "        torch.save(model, \"/notebooks/Sentiment_analysis_IMDB.pt\")\n",
        "    return losses_i, val_losses_i, val_accs_i, epochs_i"
      ]
    },
    {
      "cell_type": "code",
      "execution_count": 7,
      "metadata": {},
      "outputs": [],
      "source": [
        "# Download and load pre-trained word embeddings (e.g., GloVe)\n",
        "embedding_dim = 50\n",
        "embedding_index = {}\n",
        "with open('/notebooks/glove.6B.50d.txt', encoding='utf-8') as f:\n",
        "    for line in f:\n",
        "        values = line.split()\n",
        "        word = values[0]\n",
        "        coefficients = np.asarray(values[1:], dtype='float32')\n",
        "        embedding_index[word] = coefficients"
      ]
    },
    {
      "cell_type": "code",
      "execution_count": 13,
      "metadata": {},
      "outputs": [],
      "source": [
        "# Create the embedding matrix\n",
        "embedding_matrix = np.zeros((vocab_size + index_from, embedding_dim), dtype=np.float32)\n",
        "for word, i in word_index.items():\n",
        "    if i < vocab_size:\n",
        "        embedding_vector = embedding_index.get(word)\n",
        "        if embedding_vector is not None:\n",
        "            embedding_matrix[i + index_from] = embedding_vector"
      ]
    },
    {
      "cell_type": "code",
      "execution_count": 14,
      "metadata": {},
      "outputs": [
        {
          "data": {
            "text/plain": [
              "(49,\n",
              " array([-3.5586e-01,  5.2130e-01, -6.1070e-01, -3.0131e-01,  9.4862e-01,\n",
              "        -3.1539e-01, -5.9831e-01,  1.2188e-01, -3.1943e-02,  5.5695e-01,\n",
              "        -1.0621e-01,  6.3399e-01, -4.7340e-01, -7.5895e-02,  3.8247e-01,\n",
              "         8.1569e-02,  8.2214e-01,  2.2220e-01, -8.3764e-03, -7.6620e-01,\n",
              "        -5.6253e-01,  6.1759e-01,  2.0292e-01, -4.8598e-02,  8.7815e-01,\n",
              "        -1.6549e+00, -7.7418e-01,  1.5435e-01,  9.4823e-01, -3.9520e-01,\n",
              "         3.7302e+00,  8.2855e-01, -1.4104e-01,  1.6395e-02,  2.1115e-01,\n",
              "        -3.6085e-02, -1.5587e-01,  8.6583e-01,  2.6309e-01, -7.1015e-01,\n",
              "        -3.6770e-02,  1.8282e-03, -1.7704e-01,  2.7032e-01,  1.1026e-01,\n",
              "         1.4133e-01, -5.7322e-02,  2.7207e-01,  3.1305e-01,  9.2771e-01],\n",
              "       dtype=float32),\n",
              " array([-3.5586e-01,  5.2130e-01, -6.1070e-01, -3.0131e-01,  9.4862e-01,\n",
              "        -3.1539e-01, -5.9831e-01,  1.2188e-01, -3.1943e-02,  5.5695e-01,\n",
              "        -1.0621e-01,  6.3399e-01, -4.7340e-01, -7.5895e-02,  3.8247e-01,\n",
              "         8.1569e-02,  8.2214e-01,  2.2220e-01, -8.3764e-03, -7.6620e-01,\n",
              "        -5.6253e-01,  6.1759e-01,  2.0292e-01, -4.8598e-02,  8.7815e-01,\n",
              "        -1.6549e+00, -7.7418e-01,  1.5435e-01,  9.4823e-01, -3.9520e-01,\n",
              "         3.7302e+00,  8.2855e-01, -1.4104e-01,  1.6395e-02,  2.1115e-01,\n",
              "        -3.6085e-02, -1.5587e-01,  8.6583e-01,  2.6309e-01, -7.1015e-01,\n",
              "        -3.6770e-02,  1.8282e-03, -1.7704e-01,  2.7032e-01,  1.1026e-01,\n",
              "         1.4133e-01, -5.7322e-02,  2.7207e-01,  3.1305e-01,  9.2771e-01],\n",
              "       dtype=float32))"
            ]
          },
          "execution_count": 14,
          "metadata": {},
          "output_type": "execute_result"
        }
      ],
      "source": [
        "word_index[\"good\"], embedding_index.get(\"good\"), embedding_matrix[49+index_from]"
      ]
    },
    {
      "cell_type": "code",
      "execution_count": 15,
      "metadata": {},
      "outputs": [
        {
          "data": {
            "text/plain": [
              "((20000, 500), (2000, 500))"
            ]
          },
          "execution_count": 15,
          "metadata": {},
          "output_type": "execute_result"
        }
      ],
      "source": [
        "# make all the reviews of the same size by padding\n",
        "x_train_padded = np.zeros((train_size, max_length), dtype=int)\n",
        "x_test_padded = np.zeros((test_size, max_length), dtype=int)\n",
        "\n",
        "for i in range(0, train_size):\n",
        "  if(len(x_train[i]) < max_length):\n",
        "    x_train_padded[i] = np.pad(x_train[i], (0, max_length - len(x_train[i])), mode=\"constant\", constant_values = 0)\n",
        "\n",
        "for i in range(0, test_size):\n",
        "  if(len(x_test[i]) < max_length):\n",
        "    x_test_padded[i] = np.pad(x_test[i], (0, max_length - len(x_test[i])), mode=\"constant\", constant_values = 0)\n",
        "\n",
        "x_train_padded.shape, x_test_padded.shape"
      ]
    },
    {
      "cell_type": "code",
      "execution_count": 242,
      "metadata": {},
      "outputs": [
        {
          "data": {
            "text/plain": [
              "(2, 500, 50)"
            ]
          },
          "execution_count": 242,
          "metadata": {},
          "output_type": "execute_result"
        }
      ],
      "source": [
        "emb_x = embedding_matrix[x_train_padded[[1,2]]]\n",
        "emb_x.shape"
      ]
    },
    {
      "cell_type": "code",
      "execution_count": 16,
      "metadata": {},
      "outputs": [],
      "source": [
        "# create batches for SGD\n",
        "batch_size = 32\n",
        "train_batches = batchify_data(x_train_padded, y_train, batch_size)\n",
        "test_batches = batchify_data(x_test_padded, y_test, batch_size)"
      ]
    },
    {
      "cell_type": "code",
      "execution_count": 17,
      "metadata": {},
      "outputs": [
        {
          "data": {
            "text/plain": [
              "(32, 500)"
            ]
          },
          "execution_count": 17,
          "metadata": {},
          "output_type": "execute_result"
        }
      ],
      "source": [
        "train_batches[0][\"x\"].shape"
      ]
    },
    {
      "cell_type": "code",
      "execution_count": 33,
      "metadata": {
        "id": "tUyKcwwuB0Qy"
      },
      "outputs": [],
      "source": [
        "#################################\n",
        "# Model specification TODO\n",
        "model = nn.Sequential(\n",
        "          nn.Linear(max_length * embedding_dim, 128),\n",
        "          nn.Tanh(),\n",
        "          nn.Linear(128, 128),\n",
        "          nn.Tanh(),\n",
        "          nn.Linear(128, 2),\n",
        "          # nn.Sigmoid()\n",
        "        )"
      ]
    },
    {
      "cell_type": "code",
      "execution_count": 34,
      "metadata": {
        "colab": {
          "base_uri": "https://localhost:8080/",
          "height": 1000
        },
        "id": "ZndUsb2cbfP_",
        "outputId": "36937bd1-11a7-43ce-f872-ff0028ab6522"
      },
      "outputs": [
        {
          "name": "stdout",
          "output_type": "stream",
          "text": [
            "-------------\n",
            "Epoch 1:\n",
            "\n"
          ]
        },
        {
          "ename": "KeyboardInterrupt",
          "evalue": "",
          "output_type": "error",
          "traceback": [
            "\u001b[0;31m---------------------------------------------------------------------------\u001b[0m",
            "\u001b[0;31mKeyboardInterrupt\u001b[0m                         Traceback (most recent call last)",
            "Cell \u001b[0;32mIn[34], line 2\u001b[0m\n\u001b[1;32m      1\u001b[0m \u001b[39m# train the model\u001b[39;00m\n\u001b[0;32m----> 2\u001b[0m losses_i, val_losses_i, val_accs, epochs_i \u001b[39m=\u001b[39m train_model(train_batches, test_batches, model, lr\u001b[39m=\u001b[39;49m\u001b[39m0.01\u001b[39;49m, momentum \u001b[39m=\u001b[39;49m \u001b[39m0.9\u001b[39;49m, nesterov\u001b[39m=\u001b[39;49m\u001b[39mTrue\u001b[39;49;00m, n_epochs \u001b[39m=\u001b[39;49m \u001b[39m10\u001b[39;49m, embedding_matrix\u001b[39m=\u001b[39;49membedding_matrix,)\n\u001b[1;32m      4\u001b[0m \u001b[39m# # Evaluate the model on test data\u001b[39;00m\n\u001b[1;32m      5\u001b[0m loss, accuracy \u001b[39m=\u001b[39m run_epoch(test_batches, model\u001b[39m.\u001b[39meval(), \u001b[39mNone\u001b[39;00m, embedding_matrix\u001b[39m=\u001b[39membedding_matrix)\n",
            "Cell \u001b[0;32mIn[32], line 55\u001b[0m, in \u001b[0;36mtrain_model\u001b[0;34m(train_data, dev_data, model, lr, momentum, nesterov, n_epochs, embedding_matrix)\u001b[0m\n\u001b[1;32m     52\u001b[0m \u001b[39mprint\u001b[39m(\u001b[39m\"\u001b[39m\u001b[39m-------------\u001b[39m\u001b[39m\\n\u001b[39;00m\u001b[39mEpoch \u001b[39m\u001b[39m{}\u001b[39;00m\u001b[39m:\u001b[39m\u001b[39m\\n\u001b[39;00m\u001b[39m\"\u001b[39m\u001b[39m.\u001b[39mformat(epoch))\n\u001b[1;32m     54\u001b[0m \u001b[39m# Run **training***\u001b[39;00m\n\u001b[0;32m---> 55\u001b[0m loss, acc \u001b[39m=\u001b[39m run_epoch(train_data, model\u001b[39m.\u001b[39;49mtrain(), optimizer, embedding_matrix)\n\u001b[1;32m     56\u001b[0m \u001b[39mprint\u001b[39m(\u001b[39m'\u001b[39m\u001b[39mTrain loss: \u001b[39m\u001b[39m{:.6f}\u001b[39;00m\u001b[39m | Train accuracy: \u001b[39m\u001b[39m{:.6f}\u001b[39;00m\u001b[39m'\u001b[39m\u001b[39m.\u001b[39mformat(loss, acc))\n\u001b[1;32m     57\u001b[0m losses_i\u001b[39m.\u001b[39mappend(loss)\n",
            "Cell \u001b[0;32mIn[32], line 34\u001b[0m, in \u001b[0;36mrun_epoch\u001b[0;34m(data, model, optimizer, embedding_matrix)\u001b[0m\n\u001b[1;32m     32\u001b[0m     \u001b[39mif\u001b[39;00m is_training:\n\u001b[1;32m     33\u001b[0m         optimizer\u001b[39m.\u001b[39mzero_grad()\n\u001b[0;32m---> 34\u001b[0m         loss\u001b[39m.\u001b[39;49mbackward()\n\u001b[1;32m     35\u001b[0m         optimizer\u001b[39m.\u001b[39mstep()\n\u001b[1;32m     37\u001b[0m \u001b[39m# Calculate epoch level scores\u001b[39;00m\n",
            "File \u001b[0;32m/usr/local/lib/python3.11/site-packages/torch/_tensor.py:487\u001b[0m, in \u001b[0;36mTensor.backward\u001b[0;34m(self, gradient, retain_graph, create_graph, inputs)\u001b[0m\n\u001b[1;32m    477\u001b[0m \u001b[39mif\u001b[39;00m has_torch_function_unary(\u001b[39mself\u001b[39m):\n\u001b[1;32m    478\u001b[0m     \u001b[39mreturn\u001b[39;00m handle_torch_function(\n\u001b[1;32m    479\u001b[0m         Tensor\u001b[39m.\u001b[39mbackward,\n\u001b[1;32m    480\u001b[0m         (\u001b[39mself\u001b[39m,),\n\u001b[0;32m   (...)\u001b[0m\n\u001b[1;32m    485\u001b[0m         inputs\u001b[39m=\u001b[39minputs,\n\u001b[1;32m    486\u001b[0m     )\n\u001b[0;32m--> 487\u001b[0m torch\u001b[39m.\u001b[39;49mautograd\u001b[39m.\u001b[39;49mbackward(\n\u001b[1;32m    488\u001b[0m     \u001b[39mself\u001b[39;49m, gradient, retain_graph, create_graph, inputs\u001b[39m=\u001b[39;49minputs\n\u001b[1;32m    489\u001b[0m )\n",
            "File \u001b[0;32m/usr/local/lib/python3.11/site-packages/torch/autograd/__init__.py:200\u001b[0m, in \u001b[0;36mbackward\u001b[0;34m(tensors, grad_tensors, retain_graph, create_graph, grad_variables, inputs)\u001b[0m\n\u001b[1;32m    195\u001b[0m     retain_graph \u001b[39m=\u001b[39m create_graph\n\u001b[1;32m    197\u001b[0m \u001b[39m# The reason we repeat same the comment below is that\u001b[39;00m\n\u001b[1;32m    198\u001b[0m \u001b[39m# some Python versions print out the first line of a multi-line function\u001b[39;00m\n\u001b[1;32m    199\u001b[0m \u001b[39m# calls in the traceback and some print out the last line\u001b[39;00m\n\u001b[0;32m--> 200\u001b[0m Variable\u001b[39m.\u001b[39;49m_execution_engine\u001b[39m.\u001b[39;49mrun_backward(  \u001b[39m# Calls into the C++ engine to run the backward pass\u001b[39;49;00m\n\u001b[1;32m    201\u001b[0m     tensors, grad_tensors_, retain_graph, create_graph, inputs,\n\u001b[1;32m    202\u001b[0m     allow_unreachable\u001b[39m=\u001b[39;49m\u001b[39mTrue\u001b[39;49;00m, accumulate_grad\u001b[39m=\u001b[39;49m\u001b[39mTrue\u001b[39;49;00m)\n",
            "\u001b[0;31mKeyboardInterrupt\u001b[0m: "
          ]
        }
      ],
      "source": [
        "# train the model\n",
        "losses_i, val_losses_i, val_accs, epochs_i = train_model(train_batches, test_batches, model, lr=0.01, momentum = 0.9, nesterov=True, n_epochs = 10, embedding_matrix=embedding_matrix,)\n",
        "\n",
        "# # Evaluate the model on test data\n",
        "loss, accuracy = run_epoch(test_batches, model.eval(), None, embedding_matrix=embedding_matrix)\n",
        "\n",
        "print (\"Loss on test set:\"  + str(loss) + \" Accuracy on test set: \" + str(accuracy))"
      ]
    },
    {
      "cell_type": "code",
      "execution_count": null,
      "metadata": {
        "colab": {
          "base_uri": "https://localhost:8080/",
          "height": 472
        },
        "id": "Hrq6Fw0uaAxF",
        "outputId": "1080346d-bed1-414e-ec65-909cc4362473"
      },
      "outputs": [],
      "source": [
        "import matplotlib.pyplot as plt\n",
        "%matplotlib inline\n",
        "plt.figure()\n",
        "plt.title(\"Loss\")\n",
        "plt.xlabel(\"Epochs\")\n",
        "plt.ylabel(\"Loss\")\n",
        "plt.plot(epochs_i, losses_i, label = \"Train loss\")\n",
        "plt.plot(epochs_i, val_losses_i, label = \"Val loss\")\n",
        "plt.legend()\n",
        "plt.show()"
      ]
    },
    {
      "cell_type": "code",
      "execution_count": null,
      "metadata": {},
      "outputs": [],
      "source": [
        "plt.figure()\n",
        "plt.title(\"Accuracy\")\n",
        "plt.xlabel(\"Epochs\")\n",
        "plt.ylabel(\"Accuracy\")\n",
        "plt.plot(epochs_i, val_accs)\n",
        "plt.show()"
      ]
    },
    {
      "cell_type": "code",
      "execution_count": 169,
      "metadata": {
        "id": "zE_4d4PnL_k_"
      },
      "outputs": [],
      "source": [
        "stepi = []\n",
        "lossi = []"
      ]
    },
    {
      "cell_type": "code",
      "execution_count": 170,
      "metadata": {
        "colab": {
          "base_uri": "https://localhost:8080/"
        },
        "id": "8WMKKEdrLl9n",
        "outputId": "2e251d2c-f05c-4274-be7a-c5cefb88340a"
      },
      "outputs": [],
      "source": [
        "import random\n",
        "lr = 0.001\n",
        "momentum = 0.9\n",
        "optimizer = torch.optim.SGD(model.parameters(), lr=lr, momentum=momentum, nesterov=True)\n",
        "\n",
        "for i in range(1000):\n",
        "  # minibatch construct\n",
        "  # forward pass\n",
        "  ix = []\n",
        "  for j in range(64):\n",
        "    ix.append(random.randint(0,len(x_train_padded)-1))\n",
        "\n",
        "  emb =  torch.tensor(embedding_matrix[x_train_padded[ix]], dtype=torch.float32) \n",
        "  out = model(emb.view(-1, embedding_dim * max_length))\n",
        "  # print(out.shape)\n",
        "  loss = F.cross_entropy(out, torch.tensor(y_train_pad[ix])) #+ sum(torch.norm(p) for p in model.parameters())\n",
        "  \n",
        "  #update\n",
        "  optimizer.zero_grad()\n",
        "  loss.backward()\n",
        "  optimizer.step()\n",
        "  # scheduler.step()\n",
        "\n",
        "  stepi.append(i)\n",
        "  lossi.append(loss.log10().data.item())"
      ]
    },
    {
      "cell_type": "code",
      "execution_count": 171,
      "metadata": {
        "colab": {
          "base_uri": "https://localhost:8080/",
          "height": 490
        },
        "id": "cS1X9atZQP7p",
        "outputId": "60ff434b-bf67-45c8-ef98-ab4538d5ae38"
      },
      "outputs": [
        {
          "data": {
            "text/plain": [
              "[<matplotlib.lines.Line2D at 0x7fa054e4b490>]"
            ]
          },
          "execution_count": 171,
          "metadata": {},
          "output_type": "execute_result"
        },
        {
          "data": {
            "image/png": "[encoded data removed]",
            "text/plain": [
              "<Figure size 640x480 with 1 Axes>"
            ]
          },
          "metadata": {},
          "output_type": "display_data"
        }
      ],
      "source": [
        "import matplotlib.pyplot as plt\n",
        "%matplotlib inline\n",
        "plt.figure()\n",
        "plt.title(\"Cross entropy loss\")\n",
        "plt.ylabel(\"loss\")\n",
        "plt.xlabel(\"batches\")\n",
        "plt.plot(stepi, lossi)"
      ]
    }
  ],
  "metadata": {
    "colab": {
      "collapsed_sections": [
        "SVxVvba7bLBQ"
      ],
      "provenance": [],
      "toc_visible": true
    },
    "kernelspec": {
      "display_name": "Python 3",
      "name": "python3"
    },
    "language_info": {
      "codemirror_mode": {
        "name": "ipython",
        "version": 3
      },
      "file_extension": ".py",
      "mimetype": "text/x-python",
      "name": "python",
      "nbconvert_exporter": "python",
      "pygments_lexer": "ipython3",
      "version": "3.11.3"
    }
  },
  "nbformat": 4,
  "nbformat_minor": 0
}
